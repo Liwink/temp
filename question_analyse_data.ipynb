{
 "cells": [
  {
   "cell_type": "code",
   "execution_count": 1,
   "metadata": {
    "collapsed": true
   },
   "outputs": [],
   "source": [
    "import pandas as pd"
   ]
  },
  {
   "cell_type": "code",
   "execution_count": 2,
   "metadata": {
    "collapsed": true
   },
   "outputs": [],
   "source": [
    "questions = pd.read_csv('./question_train_word.csv')"
   ]
  },
  {
   "cell_type": "code",
   "execution_count": 3,
   "metadata": {
    "collapsed": false
   },
   "outputs": [
    {
     "data": {
      "text/plain": [
       "(2999967, 3)"
      ]
     },
     "execution_count": 3,
     "metadata": {},
     "output_type": "execute_result"
    }
   ],
   "source": [
    "questions.shape"
   ]
  },
  {
   "cell_type": "code",
   "execution_count": 7,
   "metadata": {
    "collapsed": false
   },
   "outputs": [
    {
     "data": {
      "text/plain": [
       "id                                           6555699376639805223\n",
       "title          w305,w13549,w22752,w11,w7225,w2565,w1106,w16,w...\n",
       "description    w231,w54,w1681,w54,w11506,w5714,w7,w54,w744,w1...\n",
       "Name: 0, dtype: object"
      ]
     },
     "execution_count": 7,
     "metadata": {},
     "output_type": "execute_result"
    }
   ],
   "source": [
    "questions.iloc[0]"
   ]
  },
  {
   "cell_type": "code",
   "execution_count": 8,
   "metadata": {
    "collapsed": false
   },
   "outputs": [
    {
     "data": {
      "text/plain": [
       "['w305',\n",
       " 'w13549',\n",
       " 'w22752',\n",
       " 'w11',\n",
       " 'w7225',\n",
       " 'w2565',\n",
       " 'w1106',\n",
       " 'w16',\n",
       " 'w31389',\n",
       " 'w6',\n",
       " 'w1019',\n",
       " 'w69288',\n",
       " 'w111',\n",
       " 'w3332',\n",
       " 'w109',\n",
       " 'w11',\n",
       " 'w25',\n",
       " 'w1110',\n",
       " 'w111']"
      ]
     },
     "execution_count": 8,
     "metadata": {},
     "output_type": "execute_result"
    }
   ],
   "source": [
    "questions.title[0].split(',')"
   ]
  },
  {
   "cell_type": "code",
   "execution_count": 13,
   "metadata": {
    "collapsed": false
   },
   "outputs": [],
   "source": [
    "words = [w for title in questions.title if type(title) == str for w in title.split(',')]"
   ]
  },
  {
   "cell_type": "code",
   "execution_count": 14,
   "metadata": {
    "collapsed": false
   },
   "outputs": [
    {
     "name": "stdout",
     "output_type": "stream",
     "text": [
      "38726556\n",
      "324959\n"
     ]
    }
   ],
   "source": [
    "print(len(words))\n",
    "set_words = set(words)\n",
    "print(len(set_words))"
   ]
  },
  {
   "cell_type": "code",
   "execution_count": 15,
   "metadata": {
    "collapsed": true
   },
   "outputs": [],
   "source": [
    "from collections import Counter\n",
    "count_words = Counter(words)"
   ]
  },
  {
   "cell_type": "code",
   "execution_count": 16,
   "metadata": {
    "collapsed": false
   },
   "outputs": [
    {
     "data": {
      "text/plain": [
       "[('w111', 2976600),\n",
       " ('w6', 1921785),\n",
       " ('w11', 1474827),\n",
       " ('w109', 552983),\n",
       " ('w54', 547054),\n",
       " ('w25', 526597),\n",
       " ('w471', 433385),\n",
       " ('w4016', 419135),\n",
       " ('w1110', 389917),\n",
       " ('w10147', 351932)]"
      ]
     },
     "execution_count": 16,
     "metadata": {},
     "output_type": "execute_result"
    }
   ],
   "source": [
    "count_words.most_common(10)"
   ]
  },
  {
   "cell_type": "code",
   "execution_count": 19,
   "metadata": {
    "collapsed": true
   },
   "outputs": [],
   "source": [
    "import numpy as np\n",
    "import matplotlib.pyplot as plt"
   ]
  },
  {
   "cell_type": "code",
   "execution_count": 21,
   "metadata": {
    "collapsed": false
   },
   "outputs": [
    {
     "data": {
      "image/png": "[encoded data removed]",
      "text/plain": [
       "<matplotlib.figure.Figure at 0x1c1d5efd0>"
      ]
     },
     "metadata": {},
     "output_type": "display_data"
    }
   ],
   "source": [
    "labels, values = zip(*count_words.most_common(100))\n",
    "indexes = np.arange(len(labels))\n",
    "\n",
    "plt.bar(indexes, values)\n",
    "plt.show()"
   ]
  },
  {
   "cell_type": "code",
   "execution_count": 23,
   "metadata": {
    "collapsed": false
   },
   "outputs": [
    {
     "data": {
      "text/plain": [
       "<Container object of 100 artists>"
      ]
     },
     "execution_count": 23,
     "metadata": {},
     "output_type": "execute_result"
    },
    {
     "data": {
      "image/png": "[encoded data removed]",
      "text/plain": [
       "<matplotlib.figure.Figure at 0x1c3139eb8>"
      ]
     },
     "metadata": {},
     "output_type": "display_data"
    }
   ],
   "source": [
    "%matplotlib inline\n",
    "figsize = (10, 8)\n",
    "fig = plt.figure(figsize=figsize)\n",
    "plt.bar(indexes, values)"
   ]
  },
  {
   "cell_type": "code",
   "execution_count": 25,
   "metadata": {
    "collapsed": false
   },
   "outputs": [
    {
     "data": {
      "image/png": "[encoded data removed]",
      "text/plain": [
       "<matplotlib.figure.Figure at 0x1c20f49e8>"
      ]
     },
     "metadata": {},
     "output_type": "display_data"
    }
   ],
   "source": [
    "fig = plt.figure(figsize=figsize)\n",
    "labels, values = zip(*count_words.most_common(500)[3:])\n",
    "indexes = np.arange(len(labels))\n",
    "\n",
    "plt.bar(indexes, values, width=1)\n",
    "plt.show()"
   ]
  },
  {
   "cell_type": "code",
   "execution_count": 28,
   "metadata": {
    "collapsed": true
   },
   "outputs": [],
   "source": [
    "total_words = len(words)"
   ]
  },
  {
   "cell_type": "code",
   "execution_count": 33,
   "metadata": {
    "collapsed": false
   },
   "outputs": [
    {
     "name": "stdout",
     "output_type": "stream",
     "text": [
      "CPU times: user 554 ms, sys: 276 ms, total: 830 ms\n",
      "Wall time: 927 ms\n"
     ]
    }
   ],
   "source": [
    "%%time\n",
    "word_weight = {l: np.log(total_words / v) for (l, v) in count_words.items()}"
   ]
  },
  {
   "cell_type": "code",
   "execution_count": 35,
   "metadata": {
    "collapsed": false
   },
   "outputs": [
    {
     "name": "stdout",
     "output_type": "stream",
     "text": [
      "324959\n",
      "2.5657438567\n"
     ]
    },
    {
     "data": {
      "text/plain": [
       "17.472036124221763"
      ]
     },
     "execution_count": 35,
     "metadata": {},
     "output_type": "execute_result"
    }
   ],
   "source": [
    "print(len(word_weight))\n",
    "print(word_weight['w111'])\n",
    "max([v for l, v in word_weight.items()])"
   ]
  },
  {
   "cell_type": "code",
   "execution_count": 36,
   "metadata": {
    "collapsed": true
   },
   "outputs": [],
   "source": [
    "from gensim.models import KeyedVectors"
   ]
  },
  {
   "cell_type": "code",
   "execution_count": 37,
   "metadata": {
    "collapsed": true
   },
   "outputs": [],
   "source": [
    "%%time\n",
    "emb_words = KeyedVectors.load_word2vec_format('./word_embedding.txt')"
   ]
  },
  {
   "cell_type": "code",
   "execution_count": 46,
   "metadata": {
    "collapsed": true
   },
   "outputs": [],
   "source": [
    "from tqdm import tqdm\n",
    "\n",
    "index2word_set = set(emb_words.index2word)\n",
    "\n",
    "def generate_input_vector(titles, num_features):\n",
    "    result = []\n",
    "    for title in tqdm(titles):\n",
    "        featureVec = np.zeros((num_features,), dtype='float32')\n",
    "        nwords = 0\n",
    "        if type(title) != str:\n",
    "            result.append(featureVec)\n",
    "            continue\n",
    "        for word in title.split(','):\n",
    "            if (word not in index2word_set) or (not word_weight.get(word)):\n",
    "                continue\n",
    "            featureVec = np.add(featureVec, np.multiply(emb_words[word], word_weight[word]))\n",
    "            nwords += 1\n",
    "        if nwords:\n",
    "            featureVec = np.divide(featureVec, nwords)\n",
    "        result.append(featureVec)\n",
    "    return result"
   ]
  },
  {
   "cell_type": "code",
   "execution_count": 41,
   "metadata": {
    "collapsed": false
   },
   "outputs": [
    {
     "data": {
      "text/plain": [
       "(256,)"
      ]
     },
     "execution_count": 41,
     "metadata": {},
     "output_type": "execute_result"
    }
   ],
   "source": [
    "emb_words['w111'].shape"
   ]
  },
  {
   "cell_type": "code",
   "execution_count": 45,
   "metadata": {
    "collapsed": false
   },
   "outputs": [],
   "source": []
  },
  {
   "cell_type": "code",
   "execution_count": 47,
   "metadata": {
    "collapsed": false
   },
   "outputs": [
    {
     "name": "stderr",
     "output_type": "stream",
     "text": [
      "100%|██████████| 2999967/2999967 [04:52<00:00, 10242.49it/s]"
     ]
    },
    {
     "name": "stdout",
     "output_type": "stream",
     "text": [
      "CPU times: user 3min 57s, sys: 26 s, total: 4min 23s\n",
      "Wall time: 4min 53s\n"
     ]
    },
    {
     "name": "stderr",
     "output_type": "stream",
     "text": [
      "\n"
     ]
    }
   ],
   "source": [
    "%%time\n",
    "train_input = generate_input_vector(questions.title, 256)"
   ]
  },
  {
   "cell_type": "code",
   "execution_count": 52,
   "metadata": {
    "collapsed": false
   },
   "outputs": [
    {
     "data": {
      "text/plain": [
       "id                                           6555699376639805223\n",
       "title          w305,w13549,w22752,w11,w7225,w2565,w1106,w16,w...\n",
       "description    w231,w54,w1681,w54,w11506,w5714,w7,w54,w744,w1...\n",
       "Name: 0, dtype: object"
      ]
     },
     "execution_count": 52,
     "metadata": {},
     "output_type": "execute_result"
    }
   ],
   "source": [
    "questions.iloc[0]"
   ]
  },
  {
   "cell_type": "code",
   "execution_count": 53,
   "metadata": {
    "collapsed": false
   },
   "outputs": [],
   "source": [
    "y = questions.id"
   ]
  },
  {
   "cell_type": "code",
   "execution_count": 54,
   "metadata": {
    "collapsed": true
   },
   "outputs": [],
   "source": [
    "train_question_topics = pd.read_csv('./question_topic_train_set.txt', sep='\\t', names=['q_id', 'topics'])"
   ]
  },
  {
   "cell_type": "code",
   "execution_count": 55,
   "metadata": {
    "collapsed": false
   },
   "outputs": [
    {
     "data": {
      "text/plain": [
       "(2999967, 2)"
      ]
     },
     "execution_count": 55,
     "metadata": {},
     "output_type": "execute_result"
    }
   ],
   "source": [
    "train_question_topics.shape"
   ]
  },
  {
   "cell_type": "code",
   "execution_count": 56,
   "metadata": {
    "collapsed": false
   },
   "outputs": [
    {
     "data": {
      "text/plain": [
       "q_id                          6555699376639805223\n",
       "topics    7739004195693774975,3738968195649774859\n",
       "Name: 0, dtype: object"
      ]
     },
     "execution_count": 56,
     "metadata": {},
     "output_type": "execute_result"
    }
   ],
   "source": [
    "train_question_topics.iloc[0]"
   ]
  },
  {
   "cell_type": "code",
   "execution_count": 57,
   "metadata": {
    "collapsed": false
   },
   "outputs": [
    {
     "name": "stdout",
     "output_type": "stream",
     "text": [
      "id                                           6555699376639805223\n",
      "title          w305,w13549,w22752,w11,w7225,w2565,w1106,w16,w...\n",
      "description    w231,w54,w1681,w54,w11506,w5714,w7,w54,w744,w1...\n",
      "topics                   7739004195693774975,3738968195649774859\n",
      "Name: 0, dtype: object\n"
     ]
    }
   ],
   "source": [
    "questions['topics'] = train_question_topics.topics\n",
    "print(questions.iloc[0])"
   ]
  },
  {
   "cell_type": "code",
   "execution_count": 58,
   "metadata": {
    "collapsed": true
   },
   "outputs": [],
   "source": [
    "del train_question_topics"
   ]
  },
  {
   "cell_type": "code",
   "execution_count": 59,
   "metadata": {
    "collapsed": true
   },
   "outputs": [],
   "source": [
    "topics = [t for topics in questions.topics if type(topics) is str for t in topics.split(',') if t]"
   ]
  },
  {
   "cell_type": "code",
   "execution_count": 60,
   "metadata": {
    "collapsed": false
   },
   "outputs": [
    {
     "name": "stdout",
     "output_type": "stream",
     "text": [
      "7022750\n",
      "1999\n"
     ]
    }
   ],
   "source": [
    "print(len(topics))\n",
    "set_topics = set(topics)\n",
    "print(len(set_topics))\n",
    "count_topics = Counter(topics)"
   ]
  },
  {
   "cell_type": "code",
   "execution_count": 62,
   "metadata": {
    "collapsed": false
   },
   "outputs": [
    {
     "data": {
      "text/plain": [
       "<Container object of 1999 artists>"
      ]
     },
     "execution_count": 62,
     "metadata": {},
     "output_type": "execute_result"
    },
    {
     "data": {
      "image/png": "[encoded data removed]",
      "text/plain": [
       "<matplotlib.figure.Figure at 0x2085f8128>"
      ]
     },
     "metadata": {},
     "output_type": "display_data"
    }
   ],
   "source": [
    "fig = plt.figure(figsize=figsize)\n",
    "labels, values = zip(*count_topics.most_common(1999))\n",
    "indexes = np.arange(len(labels))\n",
    "\n",
    "plt.bar(indexes, values, width=1)"
   ]
  },
  {
   "cell_type": "code",
   "execution_count": 63,
   "metadata": {
    "collapsed": true
   },
   "outputs": [],
   "source": [
    "question_topic_num = [len(topics.split(',')) if topics else 0 for topics in questions.topics ]"
   ]
  },
  {
   "cell_type": "code",
   "execution_count": 66,
   "metadata": {
    "collapsed": false
   },
   "outputs": [
    {
     "name": "stdout",
     "output_type": "stream",
     "text": [
      "[(1, 999984), (2, 770310), (3, 638821), (4, 396903), (5, 189585), (6, 2300), (7, 1092), (8, 526), (9, 218), (10, 107)]\n"
     ]
    }
   ],
   "source": [
    "_cqt = Counter(question_topic_num)\n",
    "print(_cqt.most_common(10))"
   ]
  },
  {
   "cell_type": "code",
   "execution_count": 70,
   "metadata": {
    "collapsed": false
   },
   "outputs": [
    {
     "name": "stdout",
     "output_type": "stream",
     "text": [
      "2788\n"
     ]
    }
   ],
   "source": [
    "for i in range(len(question_topic_num)+1):\n",
    "    if question_topic_num[i] > 8:\n",
    "        print(i)\n",
    "        break"
   ]
  },
  {
   "cell_type": "code",
   "execution_count": 72,
   "metadata": {
    "collapsed": false
   },
   "outputs": [
    {
     "data": {
      "text/plain": [
       "'3414266676439227853,-5295045465633304607,-2755271738371556635,3894468979819174909,4113529672303259565,-2410784981474048482,-6916771625541437162,-1287901756552786603,4047468682330031577,279996543863601173,8064131816828727404,-8963554618409314978,-7261194805221226386'"
      ]
     },
     "execution_count": 72,
     "metadata": {},
     "output_type": "execute_result"
    }
   ],
   "source": [
    "questions.iloc[2788].topics"
   ]
  },
  {
   "cell_type": "code",
   "execution_count": 73,
   "metadata": {
    "collapsed": true
   },
   "outputs": [],
   "source": [
    "def split_topics(topics):\n",
    "    topics = topics.split(',')\n",
    "    result = []\n",
    "    for t in topics:\n",
    "        if t not in result:\n",
    "            result.append(t)\n",
    "        if len(result) >= 5:\n",
    "            break\n",
    "    return result"
   ]
  },
  {
   "cell_type": "code",
   "execution_count": 75,
   "metadata": {
    "collapsed": false
   },
   "outputs": [
    {
     "name": "stdout",
     "output_type": "stream",
     "text": [
      "CPU times: user 15.6 s, sys: 52.2 s, total: 1min 7s\n",
      "Wall time: 1min 31s\n"
     ]
    }
   ],
   "source": [
    "%%time\n",
    "questions['_topics'] = questions.topics.apply(split_topics)"
   ]
  },
  {
   "cell_type": "code",
   "execution_count": 78,
   "metadata": {
    "collapsed": false
   },
   "outputs": [
    {
     "name": "stdout",
     "output_type": "stream",
     "text": [
      "3414266676439227853,-5295045465633304607,-2755271738371556635,3894468979819174909,4113529672303259565,-2410784981474048482,-6916771625541437162,-1287901756552786603,4047468682330031577,279996543863601173,8064131816828727404,-8963554618409314978,-7261194805221226386\n",
      "['3414266676439227853', '-5295045465633304607', '-2755271738371556635', '3894468979819174909', '4113529672303259565']\n"
     ]
    }
   ],
   "source": [
    "print(questions.iloc[2788].topics)\n",
    "print(questions.iloc[2788]._topics)"
   ]
  },
  {
   "cell_type": "code",
   "execution_count": 79,
   "metadata": {
    "collapsed": true
   },
   "outputs": [],
   "source": [
    "questions['topics'] = questions['_topics']\n",
    "del questions['_topics']"
   ]
  },
  {
   "cell_type": "code",
   "execution_count": 80,
   "metadata": {
    "collapsed": false
   },
   "outputs": [
    {
     "data": {
      "text/plain": [
       "id                                           6555699376639805223\n",
       "title          w305,w13549,w22752,w11,w7225,w2565,w1106,w16,w...\n",
       "description    w231,w54,w1681,w54,w11506,w5714,w7,w54,w744,w1...\n",
       "topics                [7739004195693774975, 3738968195649774859]\n",
       "Name: 0, dtype: object"
      ]
     },
     "execution_count": 80,
     "metadata": {},
     "output_type": "execute_result"
    }
   ],
   "source": [
    "questions.iloc[0]"
   ]
  },
  {
   "cell_type": "code",
   "execution_count": 86,
   "metadata": {
    "collapsed": true
   },
   "outputs": [],
   "source": [
    "from sklearn.preprocessing import MultiLabelBinarizer\n",
    "from sklearn.multiclass import OneVsRestClassifier\n",
    "from sklearn.linear_model import LogisticRegression"
   ]
  },
  {
   "cell_type": "code",
   "execution_count": 83,
   "metadata": {
    "collapsed": false
   },
   "outputs": [
    {
     "name": "stdout",
     "output_type": "stream",
     "text": [
      "CPU times: user 9.89 s, sys: 12.1 s, total: 22 s\n",
      "Wall time: 28.7 s\n"
     ]
    }
   ],
   "source": [
    "%%time\n",
    "mb = MultiLabelBinarizer()\n",
    "y_train = mb.fit_transform(questions.topics)"
   ]
  },
  {
   "cell_type": "code",
   "execution_count": 84,
   "metadata": {
    "collapsed": false
   },
   "outputs": [
    {
     "data": {
      "text/plain": [
       "(2999967, 1999)"
      ]
     },
     "execution_count": 84,
     "metadata": {},
     "output_type": "execute_result"
    }
   ],
   "source": [
    "y_train.shape"
   ]
  },
  {
   "cell_type": "code",
   "execution_count": null,
   "metadata": {
    "collapsed": true
   },
   "outputs": [],
   "source": [
    "%%time\n",
    "clf = OneVsRestClassifier(LogisticRegression(), n_jobs=-1)\n",
    "clf.fit(train_input,y_train)"
   ]
  },
  {
   "cell_type": "code",
   "execution_count": null,
   "metadata": {
    "collapsed": true
   },
   "outputs": [],
   "source": []
  }
 ],
 "metadata": {
  "kernelspec": {
   "display_name": "Python 3",
   "language": "python",
   "name": "python3"
  },
  "language_info": {
   "codemirror_mode": {
    "name": "ipython",
    "version": 3
   },
   "file_extension": ".py",
   "mimetype": "text/x-python",
   "name": "python",
   "nbconvert_exporter": "python",
   "pygments_lexer": "ipython3",
   "version": "3.6.0"
  }
 },
 "nbformat": 4,
 "nbformat_minor": 2
}
