{
 "cells": [
  {
   "cell_type": "code",
   "execution_count": 1,
   "metadata": {
    "collapsed": true
   },
   "outputs": [],
   "source": [
    "import pandas as pd\n",
    "import numpy as np\n",
    "import matplotlib.pyplot as ply"
   ]
  },
  {
   "cell_type": "markdown",
   "metadata": {},
   "source": [
    "## load data and preprocess\n",
    "\n",
    "save what data in what type file"
   ]
  },
  {
   "cell_type": "code",
   "execution_count": 2,
   "metadata": {
    "collapsed": false
   },
   "outputs": [
    {
     "name": "stdout",
     "output_type": "stream",
     "text": [
      "CPU times: user 28.1 s, sys: 5.83 s, total: 33.9 s\n",
      "Wall time: 37.9 s\n"
     ]
    }
   ],
   "source": [
    "%%time\n",
    "questions = pd.read_csv('./question_train_word.csv')\n",
    "questions_topics = questions.topics.apply(lambda s: s.split(','))\n",
    "questions_titles = questions.title.astype('U').apply(lambda s: s.split(','))"
   ]
  },
  {
   "cell_type": "code",
   "execution_count": 3,
   "metadata": {
    "collapsed": true
   },
   "outputs": [],
   "source": [
    "from sklearn.feature_extraction.text import TfidfVectorizer"
   ]
  },
  {
   "cell_type": "code",
   "execution_count": 4,
   "metadata": {
    "collapsed": false
   },
   "outputs": [],
   "source": [
    "from sklearn.externals import joblib\n",
    "from tqdm import tqdm_notebook\n",
    "from collections import Counter\n",
    "import os.path\n",
    "\n",
    "topic_count = Counter([t for ts in questions_topics for t in ts])\n",
    "topic_most_common = np.array(topic_count.most_common())\n",
    "\n",
    "tag_index_dict = {}\n",
    "\n",
    "def tag_index(i):\n",
    "    tag = topic_most_common[i][0]\n",
    "    if tag in tag_index_dict:\n",
    "        return tag_index_list[tag]\n",
    "    y_index = []\n",
    "    for topics in questions_topics:\n",
    "        if tag in topics:\n",
    "            y_index.append(1)\n",
    "        else:\n",
    "            y_index.append(0)\n",
    "    tag_index_dict[tag] = y_index\n",
    "    return y_index\n",
    "\n",
    "def fit_cv(args):\n",
    "    i, clf = args\n",
    "    filename = 'sgd_classifier_v4/sgd_{}_{}_{}.pkl'.format(tfidf_ngram_range, sgd_alpha, i)\n",
    "    if os.path.isfile(filename):\n",
    "        return i\n",
    "    \n",
    "    y = tag_index(i)\n",
    "    \n",
    "    length = int(len(y)/10)\n",
    "    clf.fit(X_train[:-length], y[:-length])\n",
    "    joblib.dump(clf, filename) \n",
    "    return i"
   ]
  },
  {
   "cell_type": "code",
   "execution_count": 5,
   "metadata": {
    "collapsed": true
   },
   "outputs": [],
   "source": [
    "tfidf_ngram_range_list = [(1,1), (1,2)]\n",
    "sgd_alpha_list = [1e-4, 1e-5, 1e-6]"
   ]
  },
  {
   "cell_type": "code",
   "execution_count": 6,
   "metadata": {
    "collapsed": true
   },
   "outputs": [],
   "source": [
    "from sklearn.linear_model import SGDClassifier\n",
    "import multiprocessing"
   ]
  },
  {
   "cell_type": "code",
   "execution_count": 8,
   "metadata": {
    "collapsed": false
   },
   "outputs": [
    {
     "name": "stdout",
     "output_type": "stream",
     "text": [
      "current: (1, 2), 1e-05\n",
      "CPU times: user 2min 53s, sys: 12 s, total: 3min 5s\n",
      "Wall time: 3min 9s\n",
      "CPU times: user 408 ms, sys: 176 ms, total: 584 ms\n",
      "Wall time: 3min 10s\n",
      "current: (1, 2), 1e-06\n",
      "CPU times: user 2min 53s, sys: 11.3 s, total: 3min 4s\n",
      "Wall time: 3min 7s\n",
      "CPU times: user 10.4 s, sys: 3.81 s, total: 14.2 s\n",
      "Wall time: 59min 3s\n"
     ]
    }
   ],
   "source": [
    "import gc\n",
    "\n",
    "for _n, tfidf_ngram_range in enumerate(tfidf_ngram_range_list):\n",
    "    for _m, sgd_alpha in enumerate(sgd_alpha_list):\n",
    "\n",
    "        \n",
    "        print('current: {}, {}'.format(tfidf_ngram_range, sgd_alpha))\n",
    "        vect = TfidfVectorizer(max_df=0.45, min_df=21, ngram_range=tfidf_ngram_range)\n",
    "        %time X_train = vect.fit_transform(questions.title.astype('U'))\n",
    "        sgd_train_list = [(i, SGDClassifier(loss=\"modified_huber\", penalty=\"l2\", n_jobs=-1, alpha=sgd_alpha, n_iter=1)) \n",
    "                          for i in range(1999)]\n",
    "\n",
    "        pool = multiprocessing.Pool(processes=4)\n",
    "        %time l = pool.map(fit_cv, sgd_train_list)\n",
    "        del pool\n",
    "        del sgd_train_list\n",
    "        del X_train\n",
    "        gc.collect()"
   ]
  },
  {
   "cell_type": "markdown",
   "metadata": {
    "collapsed": true
   },
   "source": [
    "## cross validation"
   ]
  },
  {
   "cell_type": "code",
   "execution_count": 7,
   "metadata": {
    "collapsed": false
   },
   "outputs": [],
   "source": [
    "topic_map = {i: v[0] for i, v in enumerate(topic_most_common)}"
   ]
  },
  {
   "cell_type": "code",
   "execution_count": 8,
   "metadata": {
    "collapsed": false
   },
   "outputs": [],
   "source": [
    "from tqdm import tqdm_notebook\n",
    "\n",
    "def predict(clf_list, word_tfidf):\n",
    "    predict_list = []\n",
    "    for clf in tqdm_notebook(clf_list):\n",
    "        result = [1-j[0] for j in clf.predict_proba(word_tfidf)]\n",
    "        predict_list.append(result)\n",
    "    return predict_list\n",
    "\n",
    "def transform(predict_list):\n",
    "    return np.array(predict_list).T\n",
    "\n",
    "def top_five(predict_list):\n",
    "    return np.array(predict_list).argsort()[-5:][::-1]\n",
    "\n",
    "def transform_predict(predict_list):\n",
    "    predict_list_t = transform(predict_list)\n",
    "    result = []\n",
    "    for p in tqdm_notebook(predict_list_t):\n",
    "        result.append(list(map(lambda x: topic_map[x], top_five(p))))\n",
    "    return result"
   ]
  },
  {
   "cell_type": "code",
   "execution_count": 9,
   "metadata": {
    "collapsed": false
   },
   "outputs": [
    {
     "name": "stdout",
     "output_type": "stream",
     "text": [
      "\n"
     ]
    }
   ],
   "source": [
    "filename = 'sgd_classifier_v4/sgd_{}_{}_{}.pkl'\n",
    "sgd_list = []\n",
    "\n",
    "cur_n_gram = (1,1)\n",
    "cur_alpha = 1e-4\n",
    "\n",
    "for i in tqdm_notebook(range(1999)):\n",
    "    sgd_list.append(joblib.load(filename.format(cur_n_gram, cur_alpha, i)))"
   ]
  },
  {
   "cell_type": "code",
   "execution_count": 10,
   "metadata": {
    "collapsed": false
   },
   "outputs": [
    {
     "name": "stdout",
     "output_type": "stream",
     "text": [
      "CPU times: user 47.9 s, sys: 2.17 s, total: 50.1 s\n",
      "Wall time: 50.5 s\n"
     ]
    }
   ],
   "source": [
    "vect = TfidfVectorizer(max_df=0.45, min_df=21, ngram_range=cur_n_gram)\n",
    "%time X_train = vect.fit_transform(questions.title.astype('U'))"
   ]
  },
  {
   "cell_type": "code",
   "execution_count": 11,
   "metadata": {
    "collapsed": false
   },
   "outputs": [
    {
     "data": {
      "text/plain": [
       "(299996, 57933)"
      ]
     },
     "execution_count": 11,
     "metadata": {},
     "output_type": "execute_result"
    }
   ],
   "source": [
    "stop_length = int(len(questions_topics)/10)\n",
    "X_train[-stop_length:].shape"
   ]
  },
  {
   "cell_type": "code",
   "execution_count": 12,
   "metadata": {
    "collapsed": false
   },
   "outputs": [
    {
     "name": "stdout",
     "output_type": "stream",
     "text": [
      "\n"
     ]
    }
   ],
   "source": [
    "stop_length = int(len(questions_topics)/10)\n",
    "predict_list = predict(sgd_list, X_train[-stop_length:])\n",
    "\n",
    "result = transform_predict(predict_list)"
   ]
  },
  {
   "cell_type": "code",
   "execution_count": 13,
   "metadata": {
    "collapsed": false
   },
   "outputs": [
    {
     "data": {
      "text/plain": [
       "(0.35395857880571613, 1.2066986535116266, 0.500881045834571, 347358, 693494)"
      ]
     },
     "execution_count": 13,
     "metadata": {},
     "output_type": "execute_result"
    }
   ],
   "source": [
    "from evaluate import evaluate\n",
    "evaluate(zip(result, questions_topics[-stop_length:]))"
   ]
  },
  {
   "cell_type": "code",
   "execution_count": 9,
   "metadata": {
    "collapsed": false
   },
   "outputs": [
    {
     "name": "stdout",
     "output_type": "stream",
     "text": [
      "Automatic pdb calling has been turned ON\n"
     ]
    }
   ],
   "source": [
    "%pdb"
   ]
  },
  {
   "cell_type": "code",
   "execution_count": 22,
   "metadata": {
    "collapsed": true
   },
   "outputs": [],
   "source": [
    "def predict_cv(tfidf_ngram_range, sgd_alpha):\n",
    "    print('current: {}, {}'.format(tfidf_ngram_range, sgd_alpha))\n",
    "\n",
    "    vect = TfidfVectorizer(max_df=0.45, min_df=21, ngram_range=tfidf_ngram_range)\n",
    "    X_train = vect.fit_transform(questions.title.astype('U'))\n",
    "\n",
    "    filename = 'sgd_classifier_v4/sgd_{}_{}_{}.pkl'\n",
    "    sgd_list = []\n",
    "\n",
    "    for i in tqdm_notebook(range(1999)):\n",
    "        sgd_list.append(joblib.load(filename.format(tfidf_ngram_range, sgd_alpha, i)))\n",
    "    \n",
    "    print('predict')\n",
    "    stop_length = int(len(questions_topics)/10)\n",
    "    predict_list = predict(sgd_list, X_train[-stop_length:])\n",
    "    print('transform')\n",
    "    result = transform_predict(predict_list)\n",
    "    return result"
   ]
  },
  {
   "cell_type": "code",
   "execution_count": 9,
   "metadata": {
    "collapsed": false
   },
   "outputs": [
    {
     "name": "stdout",
     "output_type": "stream",
     "text": [
      "CPU times: user 3min, sys: 10.9 s, total: 3min 11s\n",
      "Wall time: 3min 21s\n"
     ]
    }
   ],
   "source": [
    "FILENAME = 'sgd_classifier_v4/sgd_{}_{}_{}.pkl'\n",
    "\n",
    "tfidf_ngram_range = (1, 2)\n",
    "vect_2 = TfidfVectorizer(max_df=0.45, min_df=21, ngram_range=tfidf_ngram_range)\n",
    "%time X_train_2 = vect_2.fit_transform(questions.title.astype('U'))"
   ]
  },
  {
   "cell_type": "code",
   "execution_count": 13,
   "metadata": {
    "collapsed": false
   },
   "outputs": [
    {
     "data": {
      "text/plain": [
       "(2999967, 222485)"
      ]
     },
     "execution_count": 13,
     "metadata": {},
     "output_type": "execute_result"
    }
   ],
   "source": [
    "X_train_2.shape"
   ]
  },
  {
   "cell_type": "code",
   "execution_count": 17,
   "metadata": {
    "collapsed": false
   },
   "outputs": [
    {
     "name": "stdout",
     "output_type": "stream",
     "text": [
      "1621/|/ 81%|| 1621/1999 [01:09<00:16, 23.35it/s]\n",
      "predict\n",
      "transform\n",
      "166900/|/ 56%|| 166900/299996 [02:44<02:10, 1016.03it/s]\n",
      "\n",
      "predict\n",
      "\n",
      "transform\n",
      "3326/|/  1%|| 3326/299996 [00:55<1:22:28, 59.95it/s]\n",
      "\n",
      "predict\n",
      "\n",
      "transform\n",
      "6007/|/  2%|| 6007/299996 [00:40<33:01, 148.34it/s]\n"
     ]
    }
   ],
   "source": [
    "result_list_2 = []\n",
    "for sgd_alpha in [1e-4, 1e-5, 1e-6]:\n",
    "    sgd_list = []\n",
    "    for i in tqdm_notebook(range(1999)):\n",
    "        sgd_list.append(joblib.load(FILENAME.format((1,2), sgd_alpha, i)))\n",
    "    print('predict')\n",
    "    stop_length = int(len(questions_topics)/10)\n",
    "\n",
    "    predict_list = predict(sgd_list, X_train_2[-stop_length:])\n",
    "    print('transform')\n",
    "    result_list_2.append(transform_predict(predict_list))"
   ]
  },
  {
   "cell_type": "code",
   "execution_count": 18,
   "metadata": {
    "collapsed": true
   },
   "outputs": [],
   "source": [
    "for i, result in enumerate(result_list_2):\n",
    "    pd.Series(result).to_csv('sgd_result_v4_cv_2_1e-{}.csv'.format(i+4), header=False, index=False, sep=' ')"
   ]
  },
  {
   "cell_type": "code",
   "execution_count": 19,
   "metadata": {
    "collapsed": false
   },
   "outputs": [
    {
     "name": "stdout",
     "output_type": "stream",
     "text": [
      "(0.34803699680876915, 1.1847725766168238, 0.49280166807499415, 341755, 693494)\n",
      "(0.37216923069426944, 1.27924717774402, 0.5248682757168771, 363993, 693494)\n",
      "(0.3069152746755406, 1.0716297479272252, 0.4300945646249283, 298268, 693494)\n"
     ]
    }
   ],
   "source": [
    "from evaluate import evaluate\n",
    "for result in result_list_2:\n",
    "    print(evaluate(zip(result, questions_topics[-stop_length:])))"
   ]
  },
  {
   "cell_type": "markdown",
   "metadata": {},
   "source": [
    "5e-05\n",
    "\n",
    "(0.36020836152515456, 1.2291048630864385, 0.509535771037673, 353360, 693494)\n",
    "\n",
    "2.5e-05\n",
    "\n",
    "(0.36882724548243073, 1.2612919275790064, 0.5212518060718622, 361485, 693494)\n",
    "\n",
    "7.5e-05\n",
    "\n",
    "(0.35358860114414276, 1.2045755291410178, 0.500506132713477, 347098, 693494)"
   ]
  },
  {
   "cell_type": "code",
   "execution_count": 20,
   "metadata": {
    "collapsed": true
   },
   "outputs": [],
   "source": [
    "tfidf_ngram_range = (1, 1)\n",
    "vect_1 = TfidfVectorizer(max_df=0.45, min_df=21, ngram_range=tfidf_ngram_range)\n",
    "X_train_1 = vect_1.fit_transform(questions.title.astype('U'))"
   ]
  },
  {
   "cell_type": "code",
   "execution_count": 21,
   "metadata": {
    "collapsed": false
   },
   "outputs": [
    {
     "data": {
      "text/plain": [
       "(2999967, 57933)"
      ]
     },
     "execution_count": 21,
     "metadata": {},
     "output_type": "execute_result"
    }
   ],
   "source": [
    "X_train_1.shape"
   ]
  },
  {
   "cell_type": "code",
   "execution_count": 22,
   "metadata": {
    "collapsed": false
   },
   "outputs": [
    {
     "name": "stdout",
     "output_type": "stream",
     "text": [
      "\n",
      "\n",
      "2632/|/  1%|| 2632/299996 [01:06<2:05:09, 39.60it/s]\n",
      "\n",
      "\n",
      "5705/|/  2%|| 5705/299996 [00:50<43:33, 112.60it/s]\n",
      "\n",
      "\n",
      "218507/|/ 73%|| 218507/299996 [02:49<01:03, 1287.03it/s]\n"
     ]
    }
   ],
   "source": [
    "result_list_1 = []\n",
    "for sgd_alpha in [1e-4, 1e-5, 1e-6]:\n",
    "    sgd_list = []\n",
    "    for i in tqdm_notebook(range(1999)):\n",
    "        sgd_list.append(joblib.load(FILENAME.format((1,1), sgd_alpha, i)))\n",
    "\n",
    "    stop_length = int(len(questions_topics)/10)\n",
    "    predict_list = predict(sgd_list, X_train_1[-stop_length:])\n",
    "    \n",
    "    result_list_1.append(transform_predict(predict_list))"
   ]
  },
  {
   "cell_type": "code",
   "execution_count": 24,
   "metadata": {
    "collapsed": true
   },
   "outputs": [],
   "source": [
    "for i, result in enumerate(result_list_1):\n",
    "    pd.Series(result).to_csv('sgd_result_v4_cv_1_1e-{}.csv'.format(i+4), header=False, index=False, sep=' ')"
   ]
  },
  {
   "cell_type": "code",
   "execution_count": 25,
   "metadata": {
    "collapsed": false
   },
   "outputs": [
    {
     "name": "stdout",
     "output_type": "stream",
     "text": [
      "(0.35395857880571613, 1.2066986535116266, 0.500881045834571, 347358, 693494)\n",
      "(0.36846068438827806, 1.268284484811129, 0.5193383071807398, 360158, 693494)\n",
      "(0.29468081308382876, 1.0286364843942957, 0.41299420038241136, 286409, 693494)\n"
     ]
    }
   ],
   "source": [
    "for result in result_list_1:\n",
    "    print(evaluate(zip(result, questions_topics[-stop_length:])))"
   ]
  },
  {
   "cell_type": "markdown",
   "metadata": {},
   "source": [
    "## predict: (1,2); 1e-5"
   ]
  },
  {
   "cell_type": "code",
   "execution_count": 10,
   "metadata": {
    "collapsed": false
   },
   "outputs": [
    {
     "name": "stdout",
     "output_type": "stream",
     "text": [
      "(2999967, 222485)\n"
     ]
    }
   ],
   "source": [
    "print(X_train_2.shape)\n",
    "\n",
    "def fit(args):\n",
    "    i, clf = args\n",
    "    filename = 'sgd_classifier_v4_final/sgd_(1,2)_1e-5_{}.pkl'.format(i)\n",
    "    if os.path.isfile(filename):\n",
    "        return i\n",
    "    \n",
    "    y = tag_index(i)\n",
    "    \n",
    "    clf.fit(X_train_2, y)\n",
    "    joblib.dump(clf, filename)\n",
    "    return i\n",
    "\n",
    "sgd_train_list = [(i, SGDClassifier(loss=\"modified_huber\", penalty=\"l2\", n_jobs=-1, alpha=1e-5, n_iter=1))\n",
    "                  for i in range(1999)]\n",
    "\n",
    "pool = multiprocessing.Pool(processes=4)\n",
    "l = pool.map(fit, sgd_train_list)"
   ]
  },
  {
   "cell_type": "code",
   "execution_count": 12,
   "metadata": {
    "collapsed": false
   },
   "outputs": [
    {
     "name": "stdout",
     "output_type": "stream",
     "text": [
      "\n"
     ]
    }
   ],
   "source": [
    "FILENAME_F = 'sgd_classifier_v4_final/sgd_(1,2)_1e-5_{}.pkl'\n",
    "sgd_list = []\n",
    "for i in tqdm_notebook(range(1999)):\n",
    "    sgd_list.append(joblib.load(FILENAME_F.format(i)))"
   ]
  },
  {
   "cell_type": "code",
   "execution_count": 15,
   "metadata": {
    "collapsed": false
   },
   "outputs": [
    {
     "data": {
      "text/plain": [
       "(217360, 222485)"
      ]
     },
     "execution_count": 15,
     "metadata": {},
     "output_type": "execute_result"
    }
   ],
   "source": [
    "test_questions = pd.read_csv('./question_eval_set.txt', sep='\\t', names=['id', 'c', 'w', 'd_c', 'd_w'])\n",
    "X_test = vect_2.transform(test_questions.w.astype('U'))\n",
    "X_test.shape"
   ]
  },
  {
   "cell_type": "code",
   "execution_count": 17,
   "metadata": {
    "collapsed": false
   },
   "outputs": [
    {
     "name": "stdout",
     "output_type": "stream",
     "text": [
      "160960/|/ 74%|| 160960/217360 [02:13<00:46, 1210.09it/s]\n"
     ]
    }
   ],
   "source": [
    "predict_test = predict(sgd_list, X_test)\n",
    "result_test = transform_predict(predict_test)"
   ]
  },
  {
   "cell_type": "code",
   "execution_count": 18,
   "metadata": {
    "collapsed": false
   },
   "outputs": [
    {
     "name": "stdout",
     "output_type": "stream",
     "text": [
      "['4610596224687453206', '-7506384235581390893', '6006627476560013656', '-5872443091340192918', '2339809570377332086']\n"
     ]
    }
   ],
   "source": [
    "print(result_test[0])\n",
    "pd.Series(result_test).to_csv('sgd_result_v4_final_2_1e-5.csv', header=False, index=False, sep=' ')"
   ]
  },
  {
   "cell_type": "code",
   "execution_count": null,
   "metadata": {
    "collapsed": true
   },
   "outputs": [],
   "source": []
  }
 ],
 "metadata": {
  "kernelspec": {
   "display_name": "Python 3",
   "language": "python",
   "name": "python3"
  },
  "language_info": {
   "codemirror_mode": {
    "name": "ipython",
    "version": 3
   },
   "file_extension": ".py",
   "mimetype": "text/x-python",
   "name": "python",
   "nbconvert_exporter": "python",
   "pygments_lexer": "ipython3",
   "version": "3.6.0"
  }
 },
 "nbformat": 4,
 "nbformat_minor": 2
}
