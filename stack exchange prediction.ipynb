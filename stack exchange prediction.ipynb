{
 "cells": [
  {
   "cell_type": "code",
   "execution_count": 1,
   "metadata": {
    "collapsed": true
   },
   "outputs": [],
   "source": [
    "from collections import Counter\n",
    "from collections import defaultdict\n",
    "import networkx as nx"
   ]
  },
  {
   "cell_type": "code",
   "execution_count": 2,
   "metadata": {
    "collapsed": true
   },
   "outputs": [],
   "source": [
    "import pandas as pd\n",
    "import numpy as np"
   ]
  },
  {
   "cell_type": "code",
   "execution_count": 3,
   "metadata": {
    "collapsed": false
   },
   "outputs": [
    {
     "name": "stdout",
     "output_type": "stream",
     "text": [
      "CPU times: user 16.2 s, sys: 2.61 s, total: 18.8 s\n",
      "Wall time: 19.2 s\n"
     ]
    }
   ],
   "source": [
    "%time questions = pd.read_csv('./question_train_word.csv')"
   ]
  },
  {
   "cell_type": "code",
   "execution_count": 4,
   "metadata": {
    "collapsed": false
   },
   "outputs": [
    {
     "name": "stdout",
     "output_type": "stream",
     "text": [
      "Index(['Unnamed: 0', 'Unnamed: 0.1', 'id', 'title', 'description', 'topics'], dtype='object')\n",
      "CPU times: user 3.93 s, sys: 468 ms, total: 4.4 s\n",
      "Wall time: 4.52 s\n",
      "CPU times: user 8.46 s, sys: 2.11 s, total: 10.6 s\n",
      "Wall time: 13.2 s\n"
     ]
    }
   ],
   "source": [
    "print(questions.columns)\n",
    "%time questions_topics = questions.topics.apply(lambda s: s.split(','))\n",
    "%time questions_titles = questions.title.astype('U').apply(lambda s: s.split(','))"
   ]
  },
  {
   "cell_type": "code",
   "execution_count": 11,
   "metadata": {
    "collapsed": false
   },
   "outputs": [
    {
     "name": "stdout",
     "output_type": "stream",
     "text": [
      "\n",
      "\n"
     ]
    }
   ],
   "source": [
    "# from collections import defaultdict\n",
    "# from tqdm import tqdm_notebook\n",
    "# # from multiprocessing import \n",
    "\n",
    "# total, common, usefulness = [defaultdict(int) for _ in range(3)]\n",
    "\n",
    "# for i in tqdm_notebook(range(len(questions_titles))):\n",
    "#     for word in questions_titles[i]:\n",
    "#         total[word] += 1\n",
    "#         if word in questions_topics[i]:\n",
    "#             common[word] += 1\n",
    "\n",
    "# for word in total:\n",
    "#     usefulness[word] = common[word] / total[word]"
   ]
  },
  {
   "cell_type": "code",
   "execution_count": 5,
   "metadata": {
    "collapsed": true
   },
   "outputs": [],
   "source": [
    "colnams = ['id', 'p_ids', 'c', 'w', 'd_c', 'd_w']\n",
    "topics = pd.read_csv('./topic_info.txt', sep='\\t', names=colnams)"
   ]
  },
  {
   "cell_type": "code",
   "execution_count": 6,
   "metadata": {
    "collapsed": false
   },
   "outputs": [],
   "source": [
    "topics_list = [t.split(',') for t in topics.w.astype('U')]\n",
    "topics['w_len'] = topics.w.astype('U').apply(lambda x: len(x.split(',')))"
   ]
  },
  {
   "cell_type": "markdown",
   "metadata": {},
   "source": [
    "#### How to deal with topics with multiple words?"
   ]
  },
  {
   "cell_type": "code",
   "execution_count": 7,
   "metadata": {
    "collapsed": false
   },
   "outputs": [
    {
     "data": {
      "text/plain": [
       "1     1704\n",
       "2      116\n",
       "3       79\n",
       "4       45\n",
       "5       27\n",
       "7       10\n",
       "6        9\n",
       "8        4\n",
       "10       2\n",
       "9        2\n",
       "11       1\n",
       "Name: w_len, dtype: int64"
      ]
     },
     "execution_count": 7,
     "metadata": {},
     "output_type": "execute_result"
    }
   ],
   "source": [
    "topics.w_len.value_counts()"
   ]
  },
  {
   "cell_type": "code",
   "execution_count": 8,
   "metadata": {
    "collapsed": false
   },
   "outputs": [
    {
     "name": "stdout",
     "output_type": "stream",
     "text": [
      "['7739004195693774975', '3738968195649774859']\n"
     ]
    }
   ],
   "source": [
    "print(questions_topics[0])\n",
    "topics.set_index(['id'], inplace=True)"
   ]
  },
  {
   "cell_type": "code",
   "execution_count": 9,
   "metadata": {
    "collapsed": false
   },
   "outputs": [
    {
     "data": {
      "text/plain": [
       "'w103'"
      ]
     },
     "execution_count": 9,
     "metadata": {},
     "output_type": "execute_result"
    }
   ],
   "source": [
    "topic_id_map = {str(i): topics.loc[i].w for i in topics.index}\n",
    "topic_id_map['7739004195693774975']"
   ]
  },
  {
   "cell_type": "code",
   "execution_count": 10,
   "metadata": {
    "collapsed": false
   },
   "outputs": [
    {
     "name": "stdout",
     "output_type": "stream",
     "text": [
      "CPU times: user 8.17 s, sys: 2.73 s, total: 10.9 s\n",
      "Wall time: 11.6 s\n"
     ]
    }
   ],
   "source": [
    "%time questions_topics_w = questions.topics.apply(lambda s: list(map(lambda i: topic_id_map[i], s.split(','))))"
   ]
  },
  {
   "cell_type": "code",
   "execution_count": 11,
   "metadata": {
    "collapsed": false
   },
   "outputs": [
    {
     "data": {
      "text/plain": [
       "['w103', 'w24']"
      ]
     },
     "execution_count": 11,
     "metadata": {},
     "output_type": "execute_result"
    }
   ],
   "source": [
    "questions_topics_w[0]"
   ]
  },
  {
   "cell_type": "markdown",
   "metadata": {},
   "source": [
    "#### using redis and multiprocessing\n",
    "\n",
    "but the speed is disappointing."
   ]
  },
  {
   "cell_type": "code",
   "execution_count": 31,
   "metadata": {
    "collapsed": false
   },
   "outputs": [
    {
     "name": "stdout",
     "output_type": "stream",
     "text": [
      "delete total: 21394\n",
      "delete common: 1095\n",
      "\n"
     ]
    }
   ],
   "source": [
    "from collections import defaultdict\n",
    "from tqdm import tqdm_notebook\n",
    "from redis import Redis\n",
    "from multiprocessing import Pool\n",
    "\n",
    "r = Redis(decode_responses=True)\n",
    "TOTAL = 'total_{}'\n",
    "COMMON = 'common_{}'\n",
    "\n",
    "# clear old data\n",
    "total_keys = r.keys(TOTAL.format('*'))\n",
    "if total_keys:\n",
    "    print('delete total: ' + str(r.delete(*total_keys)))\n",
    "common_keys = r.keys(COMMON.format('*'))\n",
    "if common_keys:\n",
    "    print('delete common: ' + str(r.delete(*common_keys)))\n",
    "\n",
    "def incr(i):\n",
    "    for word in questions_titles[i]:\n",
    "        r.incr(TOTAL.format(word))\n",
    "        if word in questions_topics_w[i]:\n",
    "            r.incr(COMMON.format(word))\n",
    "\n",
    "pool = Pool(processes=1)\n",
    "\n",
    "length = 10000\n",
    "for _ in tqdm_notebook(pool.imap_unordered(incr, range(length)), total=length):\n",
    "    pass\n"
   ]
  },
  {
   "cell_type": "code",
   "execution_count": 33,
   "metadata": {
    "collapsed": false
   },
   "outputs": [
    {
     "name": "stdout",
     "output_type": "stream",
     "text": [
      "\n"
     ]
    }
   ],
   "source": [
    "from collections import defaultdict\n",
    "from tqdm import tqdm_notebook\n",
    "\n",
    "total, common, usefulness = [defaultdict(int) for _ in range(3)]\n",
    "\n",
    "length = len(questions_titles)\n",
    "for i in tqdm_notebook(range(length)):\n",
    "    for word in questions_titles[i]:\n",
    "        total[word] += 1\n",
    "        if word in questions_topics_w[i]:\n",
    "            common[word] += 1\n",
    "\n",
    "for word in common:\n",
    "    usefulness[word] = common[word] / total[word]"
   ]
  },
  {
   "cell_type": "code",
   "execution_count": 35,
   "metadata": {
    "collapsed": false
   },
   "outputs": [],
   "source": [
    "import json\n",
    "with open('usefulness.txt', 'w') as f:\n",
    "    f.write(json.dumps(usefulness))"
   ]
  },
  {
   "cell_type": "markdown",
   "metadata": {},
   "source": [
    "### Some titles with basic recommender"
   ]
  },
  {
   "cell_type": "code",
   "execution_count": 40,
   "metadata": {
    "collapsed": false
   },
   "outputs": [
    {
     "name": "stdout",
     "output_type": "stream",
     "text": [
      "[('w305', 0), ('w13549', 0), ('w22752', 0)]\n",
      "[('w377', 0.142865451725475), ('w54', 0), ('w285', 0)]\n",
      "[('w15450', 0.5002562788313686), ('w875', 0), ('w42394', 0)]\n",
      "[('w138', 0.5672250859106529), ('w8646', 0), ('w2744', 0)]\n",
      "[('w380', 0.8488372093023255), ('w54', 0), ('w674', 0)]\n",
      "[('w133', 0), ('w54', 0), ('w134', 0)]\n",
      "[('w27', 0.4324342105263158), ('w75', 0.15127803860198227), ('w686', 0)]\n",
      "[('w2486', 0.4248441468483029), ('w2298', 0), ('w109', 0)]\n",
      "[('w3297', 0.22171405846092662), ('w1652', 0.021534625410857985), ('w1448', 0)]\n",
      "[('w2218', 0.9133333333333333), ('w54', 0), ('w1038', 0)]\n"
     ]
    }
   ],
   "source": [
    "def basic_recommender(title, usefulness=usefulness):\n",
    "    return Counter({word: usefulness.get(word, 0) \n",
    "                    for word in title})\n",
    "for i in range(10):\n",
    "    print(basic_recommender(questions_titles[i]).most_common(3))"
   ]
  },
  {
   "cell_type": "code",
   "execution_count": 46,
   "metadata": {
    "collapsed": false
   },
   "outputs": [
    {
     "name": "stdout",
     "output_type": "stream",
     "text": [
      "\n"
     ]
    }
   ],
   "source": [
    "from itertools import combinations\n",
    "\n",
    "G = nx.Graph()\n",
    "\n",
    "length = len(questions_titles)\n",
    "for i in tqdm_notebook(range(length)):\n",
    "    for tag in questions_topics_w[i]:\n",
    "        if not tag:\n",
    "            continue\n",
    "        if not G.has_node(tag):\n",
    "            G.add_node(tag)\n",
    "            G.node[tag]['tag_count'] = 1\n",
    "        else:\n",
    "            G.node[tag]['tag_count'] += 1\n",
    "    for edge in combinations(questions_topics_w[i], 2):\n",
    "        ni, nj = edge\n",
    "        if not G.has_edge(ni, nj):\n",
    "            G.add_edge(ni, nj, weight=1)\n",
    "        else:\n",
    "            G.edge[ni][nj]['weight'] += 1"
   ]
  },
  {
   "cell_type": "code",
   "execution_count": 47,
   "metadata": {
    "collapsed": true
   },
   "outputs": [
    {
     "name": "stdout",
     "output_type": "stream",
     "text": [
      "{'tag_count': 2487}\n",
      "{'w2781': {'weight': 109}, 'w1447,w54,w1448': {'weight': 108}, 'w3396': {'weight': 105}, 'w126': {'weight': 236}, 'w1784,w126': {'weight': 12}, 'w638': {'weight': 4}, 'w2706': {'weight': 9}, 'w6895': {'weight': 96}, 'w1056': {'weight': 11}, 'w3585': {'weight': 83}, 'w839': {'weight': 8}, 'w3686': {'weight': 33}, 'w11051': {'weight': 23}, 'w3692': {'weight': 12}, 'w2686': {'weight': 54}, 'w320': {'weight': 48}, 'w52092': {'weight': 16}, 'w12758': {'weight': 131}, 'w467': {'weight': 24}, 'w3385': {'weight': 91}, 'w205,w54,w206': {'weight': 4}, 'w88378': {'weight': 3}, 'w138': {'weight': 15}, 'w2486': {'weight': 11}, 'w4372': {'weight': 11}, 'w1404': {'weight': 192}, 'w993': {'weight': 16}, 'w5242': {'weight': 8}, 'w10437': {'weight': 2}, 'w138,w54,w41088': {'weight': 5}, 'w7724,w3034': {'weight': 10}, 'w125,w54,w674,w113,w54,w56,w57,w614': {'weight': 13}, 'w8273': {'weight': 65}, 'w33432': {'weight': 3}, 'w4748': {'weight': 19}, 'w4105,w54,w651': {'weight': 1}, 'w92': {'weight': 13}, 'w13416': {'weight': 6}, 'w8566': {'weight': 1}, 'w3227': {'weight': 11}, 'w4442': {'weight': 52}, 'w36443': {'weight': 14}, 'w9556': {'weight': 104}, 'w535': {'weight': 31}, 'w2969': {'weight': 9}, 'w3383': {'weight': 8}, 'w14738': {'weight': 6}, 'w13762': {'weight': 77}, 'w3936': {'weight': 10}, 'w17654': {'weight': 1}, 'w834': {'weight': 1}, 'w7675': {'weight': 34}, 'w101248': {'weight': 12}, 'w50679': {'weight': 74}, 'w20031': {'weight': 10}, 'w4421': {'weight': 49}, 'w22433': {'weight': 3}, 'w11474': {'weight': 4}, 'w8351': {'weight': 4}, 'w8352': {'weight': 4}, 'w7226': {'weight': 5}, 'w10731': {'weight': 4}, 'w896': {'weight': 3}, 'w16344': {'weight': 1}, 'w11832': {'weight': 1}, 'w7522': {'weight': 1}, 'w15432': {'weight': 2}, 'w20748': {'weight': 35}, 'w1049': {'weight': 37}, 'w2665': {'weight': 14}, 'w842': {'weight': 4}, 'w513': {'weight': 30}, 'w16385': {'weight': 16}, 'w54520': {'weight': 9}, 'w52597': {'weight': 2}, 'w83': {'weight': 7}, 'w454': {'weight': 45}, 'w62': {'weight': 10}, 'w31440': {'weight': 7}, 'w36106': {'weight': 22}, 'w326': {'weight': 31}, 'w30879,w875': {'weight': 6}, 'w15252,w583': {'weight': 12}, 'w3684': {'weight': 26}, 'w15353': {'weight': 3}, 'w40326': {'weight': 3}, 'w5933': {'weight': 3}, 'w4703': {'weight': 17}, 'w4272,w126': {'weight': 31}, 'w39857': {'weight': 12}, 'w1405': {'weight': 4}, 'w5310': {'weight': 5}, 'w112663': {'weight': 1}, 'w11073': {'weight': 7}, 'w39612': {'weight': 14}, 'w90945': {'weight': 2}, 'w16771': {'weight': 12}, 'w2655': {'weight': 1}, 'w17322': {'weight': 2}, 'w53,w54,w1289': {'weight': 4}, 'w130': {'weight': 6}, 'w40908': {'weight': 2}, 'w36115': {'weight': 14}, 'w10929': {'weight': 1}, 'w3996': {'weight': 4}, 'w859': {'weight': 5}, 'w1450': {'weight': 18}, 'w7144': {'weight': 4}, 'w36949': {'weight': 2}, 'w10871': {'weight': 6}, 'w9357': {'weight': 9}, 'w6407': {'weight': 20}, 'w10405': {'weight': 4}, 'w31331': {'weight': 1}, 'w10865': {'weight': 2}, 'w2778': {'weight': 3}, 'w3136': {'weight': 3}, 'w2490': {'weight': 1}, 'w4095,w54,w4106': {'weight': 3}, 'w15283': {'weight': 1}, 'w9939': {'weight': 2}, 'w41448': {'weight': 10}, 'w46833': {'weight': 4}, 'w16395': {'weight': 3}, 'w9229': {'weight': 1}, 'w782': {'weight': 5}, 'w1982': {'weight': 2}, 'w8771': {'weight': 9}, 'w95032': {'weight': 17}, 'w4423': {'weight': 5}, 'w653': {'weight': 11}, 'w106521': {'weight': 3}, 'w15244': {'weight': 13}, 'w5469': {'weight': 1}, 'w7310': {'weight': 7}, 'w4325': {'weight': 14}, 'w30061': {'weight': 7}, 'w19272': {'weight': 2}, 'w40695': {'weight': 3}, 'w9162': {'weight': 10}, 'w3514': {'weight': 7}, 'w2967': {'weight': 7}, 'w4946': {'weight': 18}, 'w1476': {'weight': 7}, 'w35390': {'weight': 6}, 'w208': {'weight': 7}, 'w599': {'weight': 23}, 'w1016': {'weight': 14}, 'w3471': {'weight': 2}, 'w9915': {'weight': 4}, 'w151': {'weight': 11}, 'w1069': {'weight': 9}, 'w4372,w3585': {'weight': 8}, 'w1504': {'weight': 1}, 'w1784': {'weight': 5}, 'w6743,w3590': {'weight': 4}, 'w2561': {'weight': 7}, 'w24': {'weight': 9}, 'w695': {'weight': 7}, 'w7165': {'weight': 9}, 'w10186': {'weight': 3}, 'w447': {'weight': 5}, 'w234': {'weight': 3}, 'w1099': {'weight': 36}, 'w27': {'weight': 3}, 'w1270': {'weight': 1}, 'w54881': {'weight': 1}, 'w3481': {'weight': 5}, 'w1020': {'weight': 4}, 'w29461': {'weight': 13}, 'w1738': {'weight': 1}, 'w9278,w54,w674,w9279,w614': {'weight': 1}, 'w398': {'weight': 21}, 'w92146,w54,w133,w55,w92178,w135,w58': {'weight': 2}, 'w4075': {'weight': 3}, 'w17428': {'weight': 2}, 'w17394': {'weight': 1}, 'w6894': {'weight': 8}, 'w6914': {'weight': 1}, 'w357': {'weight': 3}, 'w3597': {'weight': 8}, 'w27962': {'weight': 2}, 'w6487': {'weight': 2}, 'w1418': {'weight': 12}, 'w3260': {'weight': 6}, 'w2735': {'weight': 1}, 'w6823': {'weight': 1}, 'w637': {'weight': 2}, 'w43128': {'weight': 3}, 'w40877': {'weight': 9}, 'w8418': {'weight': 9}, 'w14737': {'weight': 1}, 'w5840': {'weight': 2}, 'w3706': {'weight': 11}, 'w6023': {'weight': 8}, 'w1083': {'weight': 7}, 'w2925': {'weight': 2}, 'w11818': {'weight': 1}, 'w3662': {'weight': 2}, 'w2338': {'weight': 2}, 'w4304': {'weight': 1}, 'w8770': {'weight': 1}, 'w33368': {'weight': 2}, 'w3367': {'weight': 1}, 'w2196': {'weight': 4}, 'w8108': {'weight': 1}, 'w23603': {'weight': 2}, 'w6066': {'weight': 2}, 'w46097': {'weight': 3}, 'w35766': {'weight': 2}, 'w3054': {'weight': 2}, 'w1291,w54,w674,w53,w614': {'weight': 4}, 'w40041': {'weight': 1}, 'w821,w17079': {'weight': 3}, 'w1571': {'weight': 7}, 'w30062': {'weight': 12}, 'w4064': {'weight': 1}, 'w30105': {'weight': 4}, 'w5912': {'weight': 1}, 'w583': {'weight': 4}, 'w28870': {'weight': 2}, 'w140': {'weight': 4}, 'w20885': {'weight': 3}, 'w5655': {'weight': 4}, 'w14632': {'weight': 2}, 'w19': {'weight': 2}, 'w50974': {'weight': 3}, 'w3128': {'weight': 1}, 'w17679': {'weight': 10}, 'w15061': {'weight': 2}, 'w2712': {'weight': 16}, 'w635': {'weight': 8}, 'w7973,w42428': {'weight': 2}, 'w12089': {'weight': 2}, 'w1433': {'weight': 2}, 'w683': {'weight': 14}, 'w5694': {'weight': 1}, 'w3384': {'weight': 2}, 'w29813': {'weight': 1}, 'w29800': {'weight': 1}, 'w138,w54,w315': {'weight': 3}, 'w138,w54,w521': {'weight': 3}, 'w4112': {'weight': 5}, 'w495,w55,w10615,w54,w15350,w58': {'weight': 6}, 'w18914': {'weight': 9}, 'w1930': {'weight': 1}, 'w27893': {'weight': 1}, 'w12393': {'weight': 1}, 'w1612': {'weight': 6}, 'w11347': {'weight': 5}, 'w2473,w2474': {'weight': 15}, 'w1986': {'weight': 3}, 'w12832': {'weight': 6}, 'w3632': {'weight': 2}, 'w3903': {'weight': 9}, 'w3531': {'weight': 2}, 'w3918': {'weight': 4}, 'w14201': {'weight': 2}, 'w838': {'weight': 5}, 'w328': {'weight': 2}, 'w764': {'weight': 1}, 'w1255': {'weight': 2}, 'w3792': {'weight': 1}, 'w17267': {'weight': 2}, 'w44300': {'weight': 1}, 'w557': {'weight': 3}, 'w3905': {'weight': 2}, 'w25519': {'weight': 2}, 'w702': {'weight': 1}, 'w3673': {'weight': 2}, 'w8001': {'weight': 1}, 'w8841,w6,w3585': {'weight': 2}, 'w8841': {'weight': 4}, 'w33623': {'weight': 2}, 'w35522': {'weight': 5}, 'w6479': {'weight': 1}, 'w59559,w1101': {'weight': 1}, 'w6215': {'weight': 1}, 'w24247': {'weight': 2}, 'w30783': {'weight': 3}, 'w14446,w55,w14447,w58': {'weight': 4}, 'w7601': {'weight': 1}, 'w11057': {'weight': 2}, 'w9466': {'weight': 3}, 'w8546': {'weight': 5}, 'w6811': {'weight': 3}, 'w5724': {'weight': 1}, 'w681': {'weight': 8}, 'w33915': {'weight': 1}, 'w2654': {'weight': 6}, 'w38781': {'weight': 1}, 'w6057': {'weight': 1}, 'w8372': {'weight': 2}, 'w3404': {'weight': 2}, 'w1295,w54,w398': {'weight': 1}, 'w8652,w54,w674,w8647,w614': {'weight': 4}, 'w7437': {'weight': 2}, 'w3949': {'weight': 1}, 'w18078': {'weight': 1}, 'w41504': {'weight': 4}, 'w51837': {'weight': 1}, 'w6091': {'weight': 5}, 'w31271': {'weight': 8}, 'w2606': {'weight': 1}, 'w5660': {'weight': 1}, 'w8461': {'weight': 4}, 'w5196': {'weight': 2}, 'w2311': {'weight': 3}, 'w205': {'weight': 3}, 'w91048': {'weight': 1}, 'w22162': {'weight': 1}, 'w580': {'weight': 1}, 'w1996': {'weight': 2}, 'w7232': {'weight': 11}, 'w1295': {'weight': 4}, 'w1447,w54,w40782': {'weight': 9}, 'w51673': {'weight': 7}, 'w8321': {'weight': 2}, 'w24391': {'weight': 1}, 'w397,w54,w521': {'weight': 4}, 'w3186': {'weight': 4}, 'w1044': {'weight': 1}, 'w13682': {'weight': 1}, 'w4356': {'weight': 1}, 'w10914': {'weight': 1}, 'w6378': {'weight': 9}, 'w6094': {'weight': 1}, 'w397': {'weight': 2}, 'w5476': {'weight': 3}, 'w9522': {'weight': 7}, 'w3768': {'weight': 3}, 'w11734': {'weight': 1}, 'w1096': {'weight': 3}, 'w114349': {'weight': 1}, 'w20245': {'weight': 1}, 'w7654': {'weight': 1}, 'w2218': {'weight': 2}, 'w7164': {'weight': 3}, 'w236': {'weight': 3}, 'w15214': {'weight': 2}, 'w36110': {'weight': 3}, 'w377': {'weight': 5}, 'w11241,w2712': {'weight': 2}, 'w2335': {'weight': 2}, 'w3217': {'weight': 2}, 'w20451': {'weight': 2}, 'w12903': {'weight': 1}, 'w10672': {'weight': 7}, 'w48638': {'weight': 1}, 'w1792,w2594,w6,w3034': {'weight': 3}, 'w21195': {'weight': 1}, 'w21981': {'weight': 2}, 'w34159': {'weight': 1}, 'w31557': {'weight': 1}, 'w2351': {'weight': 3}, 'w2137': {'weight': 1}, 'w33492': {'weight': 2}, 'w2463': {'weight': 1}, 'w29586': {'weight': 2}, 'w10369': {'weight': 1}, 'w109842': {'weight': 5}, 'w15046': {'weight': 1}, 'w31437': {'weight': 2}, 'w5725': {'weight': 1}, 'w4095,w54,w4105': {'weight': 5}, 'w830': {'weight': 2}, 'w15952': {'weight': 2}, 'w10166': {'weight': 2}, 'w19494': {'weight': 2}, 'w14399': {'weight': 1}, 'w1101': {'weight': 3}, 'w14413': {'weight': 1}, 'w1000': {'weight': 3}, 'w7967': {'weight': 1}, 'w2053': {'weight': 1}, 'w621,w54,w622': {'weight': 2}, 'w84959': {'weight': 2}, 'w1252': {'weight': 2}, 'w1331': {'weight': 3}, 'w7145': {'weight': 6}, 'w25624': {'weight': 2}, 'w11161': {'weight': 1}, 'w2591': {'weight': 4}, 'w22991': {'weight': 2}, 'w4414': {'weight': 2}, 'w193': {'weight': 1}, 'w122726': {'weight': 2}, 'w10056,w76,w13719': {'weight': 1}, 'w2928': {'weight': 1}, 'w377,w5671': {'weight': 2}, 'w5671': {'weight': 3}, 'w10714': {'weight': 1}, 'w6935': {'weight': 2}, 'w10204': {'weight': 11}, 'w628': {'weight': 9}, 'w2661': {'weight': 1}, 'w27082': {'weight': 2}, 'w1559': {'weight': 1}, 'w25485,w55,w37526,w58': {'weight': 1}, 'w380': {'weight': 1}, 'w14380': {'weight': 1}, 'w6303': {'weight': 3}, 'w6398': {'weight': 1}, 'w11366': {'weight': 2}, 'w51174': {'weight': 3}, 'w12225': {'weight': 2}, 'w12477': {'weight': 2}, 'w14449,w54,w674,w14450,w614': {'weight': 2}, 'w2193': {'weight': 2}, 'w29159': {'weight': 1}, 'w6584': {'weight': 2}, 'w8067': {'weight': 1}, 'w2477': {'weight': 5}, 'w20902': {'weight': 1}, 'w31795': {'weight': 1}, 'w629': {'weight': 1}, 'w2081': {'weight': 1}, 'w14339': {'weight': 4}, 'w48996': {'weight': 1}, 'w5332': {'weight': 3}, 'w491': {'weight': 4}, 'w47376': {'weight': 1}, 'w10313': {'weight': 4}, 'w13342': {'weight': 4}, 'w16842': {'weight': 1}, 'w3497': {'weight': 1}, 'w33816': {'weight': 1}, 'w18468': {'weight': 2}, 'w2137,w3585': {'weight': 2}, 'w99745': {'weight': 1}, 'w11037': {'weight': 6}, 'w13269': {'weight': 1}, 'w18291': {'weight': 2}, 'w12317': {'weight': 1}, 'w37183': {'weight': 2}, 'w69783': {'weight': 1}, 'w29708': {'weight': 4}, 'w4694': {'weight': 3}, 'w696': {'weight': 4}, 'w14164': {'weight': 2}, 'w101247': {'weight': 2}, 'w9160': {'weight': 3}, 'w4754': {'weight': 1}, 'w4391': {'weight': 2}, 'w30323': {'weight': 3}, 'w22564': {'weight': 1}, 'w3813,w54,w674,w18895,w614': {'weight': 2}, 'w1779,w54,w543': {'weight': 1}, 'w12910': {'weight': 3}, 'w7989': {'weight': 1}, 'w139': {'weight': 1}, 'w9633,w55,w1046,w58': {'weight': 1}, 'w2894': {'weight': 5}, 'w17538': {'weight': 1}, 'w5720': {'weight': 1}, 'w30541': {'weight': 1}, 'w3419': {'weight': 2}, 'w35953': {'weight': 1}, 'w5232': {'weight': 1}, 'w2803': {'weight': 1}, 'w75': {'weight': 2}, 'w0': {'weight': 1}, 'w35845': {'weight': 2}, 'w802': {'weight': 1}, 'w59391': {'weight': 1}, 'w1295,w54,w70': {'weight': 1}, 'w11864': {'weight': 1}, 'w18064': {'weight': 2}, 'w3385,w76,w17201': {'weight': 2}, 'w2220': {'weight': 5}, 'w3679': {'weight': 1}, 'w8568': {'weight': 1}, 'w23310': {'weight': 1}, 'w5832': {'weight': 1}, 'w833': {'weight': 2}, 'w1622': {'weight': 2}, 'w179': {'weight': 3}, 'w2055,w55,w37997,w58': {'weight': 1}, 'w2056': {'weight': 2}, 'w2501': {'weight': 1}, 'w8541': {'weight': 1}, 'w10925,w27686,w325,w8841,w55,w96419,w58': {'weight': 1}, 'w3534': {'weight': 4}, 'w3693': {'weight': 3}, 'w8091': {'weight': 1}, 'w6210': {'weight': 1}, 'w17414': {'weight': 1}, 'w10676': {'weight': 3}, 'w5861,w54,w342,w54,w5861,w3015,w3015': {'weight': 1}, 'w1641': {'weight': 5}, 'w17953': {'weight': 2}, 'w10760': {'weight': 3}, 'w5753': {'weight': 5}, 'w3789': {'weight': 2}, 'w54349': {'weight': 1}, 'w14835': {'weight': 1}, 'w7019': {'weight': 1}, 'w25017': {'weight': 1}, 'w636': {'weight': 3}, 'w17830': {'weight': 2}, 'w2514': {'weight': 1}, 'w20935': {'weight': 1}, 'w7510': {'weight': 1}, 'w10453': {'weight': 4}, 'w2912': {'weight': 2}, 'w16425': {'weight': 2}, 'w5861,w55,w4241,w58': {'weight': 1}, 'w12331': {'weight': 2}, 'w11072': {'weight': 2}, 'w44515': {'weight': 2}, 'w20211': {'weight': 1}, 'w9305': {'weight': 1}, 'w3855,w6895': {'weight': 1}, 'w1504,w3585': {'weight': 1}, 'w8367': {'weight': 1}, 'w90197': {'weight': 2}, 'w4555': {'weight': 1}, 'w92178': {'weight': 1}, 'w5315': {'weight': 2}, 'w4167': {'weight': 1}, 'w432': {'weight': 1}, 'w1893': {'weight': 3}, 'w1104': {'weight': 1}, 'w766,w1132': {'weight': 2}, 'w4339': {'weight': 3}, 'w2711': {'weight': 1}, 'w13265': {'weight': 1}, 'w10844': {'weight': 1}, 'w9619': {'weight': 2}, 'w549': {'weight': 6}, 'w4051': {'weight': 1}, 'w5262': {'weight': 1}, 'w1987': {'weight': 3}, 'w14252': {'weight': 1}, 'w687': {'weight': 1}, 'w21336': {'weight': 1}, 'w29703,w55,w1012,w6,w58': {'weight': 1}, 'w4105,w54,w343': {'weight': 1}, 'w6257': {'weight': 1}, 'w973': {'weight': 1}, 'w1295,w54,w521': {'weight': 1}, 'w8692': {'weight': 1}, 'w18979': {'weight': 1}, 'w2115': {'weight': 1}, 'w36663': {'weight': 1}, 'w138,w54,w126271': {'weight': 2}, 'w24609': {'weight': 1}, 'w23193': {'weight': 1}, 'w3652': {'weight': 3}, 'w4475,w55,w2567,w58': {'weight': 1}, 'w9125': {'weight': 2}, 'w1021': {'weight': 1}, 'w2564': {'weight': 1}, 'w8893,w55,w8894,w58': {'weight': 2}, 'w4349': {'weight': 2}, 'w10766': {'weight': 1}, 'w66041': {'weight': 1}, 'w59059': {'weight': 2}, 'w12409': {'weight': 1}, 'w39219': {'weight': 1}, 'w38703': {'weight': 1}, 'w10253': {'weight': 2}, 'w26718': {'weight': 1}, 'w1674,w54,w134,w54,w13047': {'weight': 1}, 'w25467': {'weight': 2}, 'w16237': {'weight': 1}, 'w21275': {'weight': 1}, 'w6786': {'weight': 1}, 'w110000': {'weight': 2}, 'w11061': {'weight': 2}, 'w15727': {'weight': 1}, 'w17314': {'weight': 2}, 'w8097': {'weight': 1}, 'w53624': {'weight': 1}, 'w8420': {'weight': 1}, 'w890': {'weight': 1}, 'w27643': {'weight': 1}, 'w46378': {'weight': 1}, 'w5744': {'weight': 1}, 'w17855': {'weight': 1}, 'w8055': {'weight': 1}, 'w9896': {'weight': 1}, 'w7138': {'weight': 2}, 'w16723,w54,w16729': {'weight': 1}, 'w16722,w55,w16723,w58': {'weight': 1}, 'w2693': {'weight': 1}, 'w1637': {'weight': 2}, 'w2820': {'weight': 1}, 'w7215': {'weight': 1}, 'w10736': {'weight': 1}, 'w4693': {'weight': 1}, 'w19869': {'weight': 1}, 'w3351': {'weight': 2}, 'w5051': {'weight': 1}, 'w7973': {'weight': 2}, 'w397,w54,w70': {'weight': 2}, 'w3585,w3590': {'weight': 2}, 'w4116': {'weight': 1}, 'w134,w54,w25,w4429,w1370,w6,w1497': {'weight': 2}, 'w40491': {'weight': 2}, 'w8339': {'weight': 1}, 'w8721': {'weight': 1}, 'w24307': {'weight': 1}, 'w52763': {'weight': 1}, 'w46918': {'weight': 3}, 'w14851': {'weight': 1}, 'w3062': {'weight': 1}, 'w3068': {'weight': 1}, 'w2741': {'weight': 1}, 'w1263': {'weight': 1}, 'w41737': {'weight': 1}, 'w3108': {'weight': 1}, 'w5248': {'weight': 1}, 'w1099,w33,w454,w33,w151,w76,w15': {'weight': 1}, 'w3651': {'weight': 1}, 'w18856': {'weight': 3}, 'w43296': {'weight': 1}, 'w5231': {'weight': 1}, 'w107467': {'weight': 1}, 'w684': {'weight': 1}, 'w1683': {'weight': 2}, 'w49328': {'weight': 1}, 'w9342,w55,w9357,w58': {'weight': 1}, 'w10703': {'weight': 1}, 'w9149,w54,w346': {'weight': 1}, 'w4120': {'weight': 1}, 'w7796': {'weight': 1}, 'w16191': {'weight': 1}, 'w2517': {'weight': 1}, 'w622,w54,w309': {'weight': 1}, 'w2172': {'weight': 1}, 'w17396': {'weight': 2}, 'w11241,w151': {'weight': 1}, 'w377,w31419': {'weight': 1}, 'w3298': {'weight': 1}, 'w4934': {'weight': 1}, 'w11162': {'weight': 1}, 'w444': {'weight': 1}, 'w4077': {'weight': 1}, 'w16548': {'weight': 1}, 'w14172': {'weight': 1}, 'w9240': {'weight': 1}, 'w13979': {'weight': 1}, 'w22127,w166,w6083,w55,w1046,w58': {'weight': 1}, 'w3167,w6,w635,w55,w2946,w58': {'weight': 1}, 'w21978,w3585': {'weight': 1}, 'w21978': {'weight': 1}, 'w48008': {'weight': 1}, 'w1050': {'weight': 2}, 'w6168': {'weight': 1}, 'w35499': {'weight': 2}, 'w15450': {'weight': 1}, 'w13621': {'weight': 1}, 'w15448': {'weight': 1}, 'w4277': {'weight': 1}, 'w9876': {'weight': 1}, 'w31418': {'weight': 1}, 'w4251': {'weight': 1}}\n"
     ]
    }
   ],
   "source": [
    "print(G.node['w3297'])\n",
    "print(G.edge['w3297'])"
   ]
  },
  {
   "cell_type": "code",
   "execution_count": 50,
   "metadata": {
    "collapsed": false
   },
   "outputs": [
    {
     "name": "stdout",
     "output_type": "stream",
     "text": [
      "Automatic pdb calling has been turned ON\n"
     ]
    }
   ],
   "source": [
    "%pdb"
   ]
  },
  {
   "cell_type": "code",
   "execution_count": 57,
   "metadata": {
    "collapsed": false,
    "scrolled": true
   },
   "outputs": [
    {
     "data": {
      "text/plain": [
       "[('w125,w54,w674,w113,w54,w56,w57,w614', 0.13513228738749977),\n",
       " ('w398', 0.10309716375471525),\n",
       " ('w397', 0.08104123538055608),\n",
       " ('w138,w54,w315', 0.06330750622669322),\n",
       " ('w138,w54,w521', 0.05599790460413326)]"
      ]
     },
     "execution_count": 57,
     "metadata": {},
     "output_type": "execute_result"
    }
   ],
   "source": [
    "def combine_tags(c1, c2):\n",
    "    for w in c1:\n",
    "        if w in c2:\n",
    "            c1[w] = 1 - (1 - c1[w]) * (1 - c2[w])\n",
    "    return Counter(dict(c2, **c1))\n",
    "\n",
    "def tag2tagrecommender(tags, n_recs):\n",
    "    total_scores = Counter()\n",
    "    tags -= Counter()\n",
    "\n",
    "    for tag in tags:\n",
    "        tag_scores = Counter({\n",
    "            nj: tags[tag]*G.edge[tag][nj]['weight']/G.node[tag]['tag_count'] \n",
    "            for _, nj in G.edges(tag)\n",
    "        })\n",
    "        tag_scores = Counter(dict(tag_scores.most_common(n_recs)))\n",
    "        total_scores = combine_tags(total_scores, tag_scores)\n",
    "    return total_scores\n",
    "\n",
    "_tags = basic_recommender(questions_titles[3])\n",
    "tag2tagrecommender(_tags, 100).most_common(5)"
   ]
  },
  {
   "cell_type": "code",
   "execution_count": 58,
   "metadata": {
    "collapsed": false
   },
   "outputs": [
    {
     "name": "stdout",
     "output_type": "stream",
     "text": [
      "['w8652,w54,w674,w8647,w614', 'w138']\n",
      "Counter({'w138': 0.5672250859106529})\n",
      "['w8646', 'w2744', 'w1462', 'w9', 'w54', 'w138', 'w54', 'w50', 'w110', 'w140344', 'w111', 'w112', 'w49270', 'w2129', 'w6', 'w6978', 'w359', 'w10147', 'w111']\n"
     ]
    }
   ],
   "source": [
    "print(questions_topics_w[3])\n",
    "print(_tags)\n",
    "print(questions_titles[3])"
   ]
  },
  {
   "cell_type": "code",
   "execution_count": 65,
   "metadata": {
    "collapsed": false
   },
   "outputs": [
    {
     "name": "stdout",
     "output_type": "stream",
     "text": [
      "\n"
     ]
    }
   ],
   "source": [
    "Y = nx.Graph()\n",
    "\n",
    "length = len(questions_titles)\n",
    "for i in tqdm_notebook(range(length)):\n",
    "    for word in questions_titles[i]:\n",
    "        if word and not Y.has_node(word):\n",
    "            Y.add_node(word, is_word=1)\n",
    "            Y.node[word]['count'] = 1\n",
    "        elif Y.node[word].get('is_word') == 1:\n",
    "            Y.node[word]['count'] += 1\n",
    "        else:\n",
    "            Y.node[word]['is_word'] = 1\n",
    "            Y.node[word]['count'] = 1\n",
    "        \n",
    "        for tag in questions_topics_w[i]:\n",
    "            if tag and not Y.has_node(tag):\n",
    "                Y.add_node(tag, is_tag=1)\n",
    "            else:\n",
    "                Y.node[tag]['is_tag'] = 1\n",
    "                \n",
    "            if not Y.has_edge(word, tag):\n",
    "                Y.add_edge(word, tag, weight=1)\n",
    "            else:\n",
    "                Y.edge[word][tag]['weight'] += 1"
   ]
  },
  {
   "cell_type": "code",
   "execution_count": 66,
   "metadata": {
    "collapsed": false
   },
   "outputs": [],
   "source": [
    "import pickle\n",
    "\n",
    "with open('title2tag_graph.pkl', 'wb') as output:\n",
    "    pickle.dump(Y, output, pickle.HIGHEST_PROTOCOL)"
   ]
  },
  {
   "cell_type": "code",
   "execution_count": 70,
   "metadata": {
    "collapsed": false,
    "scrolled": true
   },
   "outputs": [
    {
     "data": {
      "text/plain": [
       "[('w138', 0.737233026544827),\n",
       " ('w125,w54,w674,w113,w54,w56,w57,w614', 0.5502794648129494),\n",
       " ('w8652,w54,w674,w8647,w614', 0.5423443634324172),\n",
       " ('w398', 0.5283537954707014),\n",
       " ('w36949', 0.4175546831183399),\n",
       " ('w31564', 0.25),\n",
       " ('w687', 0.25),\n",
       " ('w6070,w54,w31013', 0.25),\n",
       " ('w1405', 0.25),\n",
       " ('w3058', 0.25),\n",
       " ('w5645', 0.25),\n",
       " ('w3054', 0.25),\n",
       " ('w397', 0.22305739707757755),\n",
       " ('w1099', 0.1674562354279927),\n",
       " ('w138,w54,w315', 0.13639533015975003),\n",
       " ('w138,w54,w521', 0.13036941580756015),\n",
       " ('w27', 0.12772251295059311),\n",
       " ('w236', 0.11997167138810198),\n",
       " ('w2490', 0.11464398613181492),\n",
       " ('w993', 0.11100928199152016),\n",
       " ('w138,w54,w41088', 0.10674398625429553),\n",
       " ('w1295', 0.10551996801647845),\n",
       " ('w1295,w54,w398', 0.10403813796971396),\n",
       " ('w3585', 0.0934312702128014),\n",
       " ('w139', 0.08097079037800688),\n",
       " ('w2686', 0.07926097855633607),\n",
       " ('w467', 0.07882302405498282),\n",
       " ('w628', 0.07859782137256865),\n",
       " ('w872', 0.07726528606647809),\n",
       " ('w1564', 0.06884884181856765),\n",
       " ('w2712', 0.06243972592896374),\n",
       " ('w1020', 0.058786250090047454),\n",
       " ('w3217', 0.05441872551204807),\n",
       " ('w4748', 0.052862283284265565),\n",
       " ('w19', 0.05245738841478442),\n",
       " ('w4095,w54,w18400', 0.050970873786407765),\n",
       " ('w393', 0.04795288839035334),\n",
       " ('w130', 0.04755945860552835),\n",
       " ('w3686', 0.04729873516075911),\n",
       " ('w1779,w54,w543', 0.04546742209631728),\n",
       " ('w702', 0.04536082474226804),\n",
       " ('w30105', 0.04536082474226804),\n",
       " ('w397,w54,w521', 0.044475920679886684),\n",
       " ('w15743', 0.04418102479650465),\n",
       " ('w205', 0.044050991501416434),\n",
       " ('w1050', 0.039266774469775334),\n",
       " ('w62', 0.03645541222658441),\n",
       " ('w30383', 0.03505154639175258),\n",
       " ('w1101', 0.03459350069509126),\n",
       " ('w599', 0.03398058252427184),\n",
       " ('w20130', 0.03271180896303565),\n",
       " ('w7973', 0.03204890905763569),\n",
       " ('w2759', 0.030927835051546393),\n",
       " ('w4095,w54,w4106', 0.02912621359223301),\n",
       " ('w6261', 0.028323051037577117),\n",
       " ('w2654', 0.027261292436244977),\n",
       " ('w684', 0.026823683349689237),\n",
       " ('w4095,w54,w19843', 0.02669902912621359),\n",
       " ('w2561', 0.02669902912621359),\n",
       " ('w5840', 0.02669902912621359),\n",
       " ('w3965', 0.024742268041237112),\n",
       " ('w1641', 0.024271844660194174),\n",
       " ('w2292', 0.02268041237113402),\n",
       " ('w26571', 0.02268041237113402),\n",
       " ('w39254', 0.02268041237113402),\n",
       " ('w9494', 0.021844660194174758),\n",
       " ('w8367', 0.02150366991779673),\n",
       " ('w5248', 0.020807817875383418),\n",
       " ('w43753', 0.02026856580885982),\n",
       " ('w15126', 0.019494542695383178),\n",
       " ('w12664', 0.019417475728155338),\n",
       " ('w7724,w3034', 0.01784662799584059),\n",
       " ('w41140', 0.017664376840039256),\n",
       " ('w2311', 0.017337258750408896),\n",
       " ('w7145', 0.017308440295604823),\n",
       " ('w782', 0.015418953156361164),\n",
       " ('w1083', 0.014996429421566294),\n",
       " ('w59648', 0.014236254556222969),\n",
       " ('w12089', 0.013891320842817953),\n",
       " ('w24', 0.013365318711446196),\n",
       " ('w6895', 0.012705821340593802),\n",
       " ('w380', 0.012539895513057212),\n",
       " ('w635', 0.012522081208734763),\n",
       " ('w5196', 0.01225704780248643),\n",
       " ('w2894', 0.012014683220787031),\n",
       " ('w638', 0.011309115832762166),\n",
       " ('w2928', 0.01028101439342015),\n",
       " ('w13979', 0.009595613433858808)]"
      ]
     },
     "execution_count": 70,
     "metadata": {},
     "output_type": "execute_result"
    }
   ],
   "source": [
    "def title2tagrecommender(tags, n_recs=10):\n",
    "    total_scores = Counter()\n",
    "    \n",
    "    for word in tags:\n",
    "        if Y.has_node(word) and Y.node[word].get('count'):\n",
    "            tag_scores = Counter({nj: Y.edge[word][nj]['weight'] / Y.node[word]['count'] \n",
    "                                  for _, nj in Y.edges(word) \n",
    "                                  if Y.node[nj].get('is_tag')==1})\n",
    "            tag_scores = Counter(dict(tag_scores.most_common(n_recs)))\n",
    "            total_scores = combine_tags(total_scores, tag_scores)\n",
    "    return total_scores - Counter()\n",
    "\n",
    "_tags = basic_recommender(questions_titles[3])\n",
    "title2tagrecommender(_tags, 10).most_common()"
   ]
  },
  {
   "cell_type": "code",
   "execution_count": 67,
   "metadata": {
    "collapsed": true
   },
   "outputs": [],
   "source": [
    "def normalize(rec, weight=1):\n",
    "    try:\n",
    "        max_score = rec[max(rec, key=rec.get)]\n",
    "        for tag in rec:\n",
    "            rec[tag] = weight * rec[tag] / max_score\n",
    "    except:\n",
    "        rec = Counter()\n",
    "    return rec\n",
    "\n",
    "def meta_recommender(recomendations, weights):\n",
    "    total = Counter()\n",
    "    for rec, weight in zip(recomendations, weights):\n",
    "        rec = normalize(rec, weight)\n",
    "        total = combine_tags(total, rec)\n",
    "    \n",
    "    return total"
   ]
  },
  {
   "cell_type": "code",
   "execution_count": 73,
   "metadata": {
    "collapsed": false
   },
   "outputs": [
    {
     "data": {
      "text/plain": [
       "[('w138', 0.732),\n",
       " ('w125,w54,w674,w113,w54,w56,w57,w614', 0.40785800833017805),\n",
       " ('w398', 0.3946266678967565),\n",
       " ('w397', 0.2831972173907158),\n",
       " ('w138,w54,w315', 0.20414298590537883)]"
      ]
     },
     "execution_count": 73,
     "metadata": {},
     "output_type": "execute_result"
    }
   ],
   "source": [
    "title = questions_titles[3]\n",
    "basic = basic_recommender(title)\n",
    "tag2tag = tag2tagrecommender(basic, 10)\n",
    "title2tag = title2tagrecommender(basic, 10)\n",
    "\n",
    "recommendations = meta_recommender([basic, tag2tag, title2tag],\n",
    "                                   [0.6, 0.33, 0.33])\n",
    "recommendations.most_common(5)"
   ]
  },
  {
   "cell_type": "code",
   "execution_count": 74,
   "metadata": {
    "collapsed": false
   },
   "outputs": [
    {
     "name": "stdout",
     "output_type": "stream",
     "text": [
      "\n"
     ]
    }
   ],
   "source": [
    "length = 1000\n",
    "rec_list = []\n",
    "for i in tqdm_notebook(range(length)):\n",
    "    basic = basic_recommender(questions_titles[i])\n",
    "    tag2tag = tag2tagrecommender(basic, 10)\n",
    "    title2tag = title2tagrecommender(basic, 10)\n",
    "    recommendations = meta_recommender([basic, tag2tag, title2tag],\n",
    "                                       [0.6, 0.33, 0.33])\n",
    "    rec_list.append(recommendations.most_common(5))"
   ]
  },
  {
   "cell_type": "code",
   "execution_count": 75,
   "metadata": {
    "collapsed": false
   },
   "outputs": [
    {
     "data": {
      "text/plain": [
       "'3195914392210930723'"
      ]
     },
     "execution_count": 75,
     "metadata": {},
     "output_type": "execute_result"
    }
   ],
   "source": [
    "topic_word_map = {word: _id for _id, word in topic_id_map.items()}\n",
    "topic_word_map['w138']"
   ]
  },
  {
   "cell_type": "code",
   "execution_count": 78,
   "metadata": {
    "collapsed": false
   },
   "outputs": [
    {
     "data": {
      "text/plain": [
       "['3195914392210930723',\n",
       " '3804601920633030746',\n",
       " '6940355838132160535',\n",
       " '8313816860478517392',\n",
       " '6718676536613592056']"
      ]
     },
     "execution_count": 78,
     "metadata": {},
     "output_type": "execute_result"
    }
   ],
   "source": [
    "result = [[topic_word_map.get(i[0]) for i in rec] for rec in rec_list]\n",
    "result[3]"
   ]
  },
  {
   "cell_type": "markdown",
   "metadata": {},
   "source": [
    "## title2tag is impressive, tag2tag is not."
   ]
  },
  {
   "cell_type": "code",
   "execution_count": 79,
   "metadata": {
    "collapsed": false
   },
   "outputs": [
    {
     "data": {
      "text/plain": [
       "(0.24639648491861632, 0.8950552579272336, 0.3399915002124947, 800, 2353)"
      ]
     },
     "execution_count": 79,
     "metadata": {},
     "output_type": "execute_result"
    }
   ],
   "source": [
    "from evaluate import evaluate\n",
    "evaluate(zip(result, questions_topics[:1000]))"
   ]
  },
  {
   "cell_type": "code",
   "execution_count": 81,
   "metadata": {
    "collapsed": false
   },
   "outputs": [
    {
     "data": {
      "text/plain": [
       "(0.3307230082689076, 1.2177622556833112, 0.4540295119182747, 800, 1762)"
      ]
     },
     "execution_count": 81,
     "metadata": {},
     "output_type": "execute_result"
    }
   ],
   "source": [
    "indexs = [i for i, v in enumerate(result) if v]\n",
    "_result = [v for i, v in enumerate(result) if v]\n",
    "_topics = [v for i, v in enumerate(questions_topics[:1000]) if i in indexs]\n",
    "evaluate(zip(_result, _topics))"
   ]
  },
  {
   "cell_type": "code",
   "execution_count": 82,
   "metadata": {
    "collapsed": false
   },
   "outputs": [
    {
     "name": "stdout",
     "output_type": "stream",
     "text": [
      "\n"
     ]
    },
    {
     "data": {
      "text/plain": [
       "(0.4544941848862406, 1.5552067685406048, 0.6421589460263494, 1511, 2353)"
      ]
     },
     "execution_count": 82,
     "metadata": {},
     "output_type": "execute_result"
    }
   ],
   "source": [
    "length = 1000\n",
    "rec_list = []\n",
    "for i in tqdm_notebook(range(length)):\n",
    "    basic = basic_recommender(questions_titles[i])\n",
    "#     tag2tag = tag2tagrecommender(basic, 10)\n",
    "    title2tag = title2tagrecommender(basic, 10)\n",
    "    recommendations = meta_recommender([basic, title2tag],\n",
    "                                       [0.6, 0.33])\n",
    "    rec_list.append(recommendations.most_common(5))\n",
    "\n",
    "result = [[topic_word_map.get(i[0]) for i in rec] for rec in rec_list]\n",
    "\n",
    "indexs = [i for i, v in enumerate(result) if v]\n",
    "_result = [v for i, v in enumerate(result) if v]\n",
    "_topics = [v for i, v in enumerate(questions_topics[:1000]) if i in indexs]\n",
    "evaluate(zip(_result, _topics))"
   ]
  },
  {
   "cell_type": "code",
   "execution_count": 83,
   "metadata": {
    "collapsed": false
   },
   "outputs": [
    {
     "name": "stdout",
     "output_type": "stream",
     "text": [
      "\n"
     ]
    },
    {
     "data": {
      "text/plain": [
       "(0.33021556299515376, 1.2149660092378585, 0.4534619750283768, 799, 1762)"
      ]
     },
     "execution_count": 83,
     "metadata": {},
     "output_type": "execute_result"
    }
   ],
   "source": [
    "length = 1000\n",
    "rec_list = []\n",
    "for i in tqdm_notebook(range(length)):\n",
    "    basic = basic_recommender(questions_titles[i])\n",
    "    tag2tag = tag2tagrecommender(basic, 10)\n",
    "#     title2tag = title2tagrecommender(basic, 10)\n",
    "    recommendations = meta_recommender([basic, tag2tag],\n",
    "                                       [0.6, 0.33])\n",
    "    rec_list.append(recommendations.most_common(5))\n",
    "\n",
    "result = [[topic_word_map.get(i[0]) for i in rec] for rec in rec_list]\n",
    "\n",
    "indexs = [i for i, v in enumerate(result) if v]\n",
    "_result = [v for i, v in enumerate(result) if v]\n",
    "_topics = [v for i, v in enumerate(questions_topics[:1000]) if i in indexs]\n",
    "evaluate(zip(_result, _topics))"
   ]
  },
  {
   "cell_type": "code",
   "execution_count": null,
   "metadata": {
    "collapsed": true
   },
   "outputs": [],
   "source": []
  }
 ],
 "metadata": {
  "kernelspec": {
   "display_name": "Python 3",
   "language": "python",
   "name": "python3"
  },
  "language_info": {
   "codemirror_mode": {
    "name": "ipython",
    "version": 3
   },
   "file_extension": ".py",
   "mimetype": "text/x-python",
   "name": "python",
   "nbconvert_exporter": "python",
   "pygments_lexer": "ipython3",
   "version": "3.6.0"
  }
 },
 "nbformat": 4,
 "nbformat_minor": 2
}
