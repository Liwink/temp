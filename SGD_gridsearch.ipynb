{
 "cells": [
  {
   "cell_type": "code",
   "execution_count": 1,
   "metadata": {
    "collapsed": true
   },
   "outputs": [],
   "source": [
    "import pandas as pd\n",
    "import numpy as np\n",
    "import matplotlib.pyplot as ply"
   ]
  },
  {
   "cell_type": "markdown",
   "metadata": {},
   "source": [
    "## load data and preprocess\n",
    "\n",
    "save what data in what type file"
   ]
  },
  {
   "cell_type": "code",
   "execution_count": 2,
   "metadata": {
    "collapsed": false
   },
   "outputs": [
    {
     "name": "stdout",
     "output_type": "stream",
     "text": [
      "CPU times: user 30.8 s, sys: 16 s, total: 46.8 s\n",
      "Wall time: 58.8 s\n"
     ]
    }
   ],
   "source": [
    "%%time\n",
    "questions = pd.read_csv('./question_train_word.csv')\n",
    "questions_topics = questions.topics.apply(lambda s: s.split(','))\n",
    "question_titles = questions.title.astype('U').apply(lambda s: s.split(','))"
   ]
  },
  {
   "cell_type": "code",
   "execution_count": 3,
   "metadata": {
    "collapsed": false
   },
   "outputs": [
    {
     "data": {
      "text/html": [
       "<div>\n",
       "<style>\n",
       "    .dataframe thead tr:only-child th {\n",
       "        text-align: right;\n",
       "    }\n",
       "\n",
       "    .dataframe thead th {\n",
       "        text-align: left;\n",
       "    }\n",
       "\n",
       "    .dataframe tbody tr th {\n",
       "        vertical-align: top;\n",
       "    }\n",
       "</style>\n",
       "<table border=\"1\" class=\"dataframe\">\n",
       "  <thead>\n",
       "    <tr style=\"text-align: right;\">\n",
       "      <th></th>\n",
       "      <th>Unnamed: 0</th>\n",
       "      <th>Unnamed: 0.1</th>\n",
       "      <th>id</th>\n",
       "      <th>title</th>\n",
       "      <th>description</th>\n",
       "      <th>topics</th>\n",
       "    </tr>\n",
       "  </thead>\n",
       "  <tbody>\n",
       "    <tr>\n",
       "      <th>0</th>\n",
       "      <td>0</td>\n",
       "      <td>0</td>\n",
       "      <td>6555699376639805223</td>\n",
       "      <td>w305,w13549,w22752,w11,w7225,w2565,w1106,w16,w...</td>\n",
       "      <td>w231,w54,w1681,w54,w11506,w5714,w7,w54,w744,w1...</td>\n",
       "      <td>7739004195693774975,3738968195649774859</td>\n",
       "    </tr>\n",
       "  </tbody>\n",
       "</table>\n",
       "</div>"
      ],
      "text/plain": [
       "   Unnamed: 0  Unnamed: 0.1                   id  \\\n",
       "0           0             0  6555699376639805223   \n",
       "\n",
       "                                               title  \\\n",
       "0  w305,w13549,w22752,w11,w7225,w2565,w1106,w16,w...   \n",
       "\n",
       "                                         description  \\\n",
       "0  w231,w54,w1681,w54,w11506,w5714,w7,w54,w744,w1...   \n",
       "\n",
       "                                    topics  \n",
       "0  7739004195693774975,3738968195649774859  "
      ]
     },
     "execution_count": 3,
     "metadata": {},
     "output_type": "execute_result"
    }
   ],
   "source": [
    "questions.head(1)"
   ]
  },
  {
   "cell_type": "code",
   "execution_count": 4,
   "metadata": {
    "collapsed": false
   },
   "outputs": [
    {
     "name": "stdout",
     "output_type": "stream",
     "text": [
      "CPU times: user 10.8 s, sys: 5.52 s, total: 16.3 s\n",
      "Wall time: 19.7 s\n"
     ]
    }
   ],
   "source": [
    "%%time\n",
    "from collections import Counter\n",
    "\n",
    "question_words = [w for ws in question_titles for w in ws]\n",
    "word_counter = Counter(question_words)\n",
    "word_most_common = word_counter.most_common()"
   ]
  },
  {
   "cell_type": "markdown",
   "metadata": {},
   "source": [
    "#### Using `np.array` could be more efficient then `list`. "
   ]
  },
  {
   "cell_type": "code",
   "execution_count": 5,
   "metadata": {
    "collapsed": false
   },
   "outputs": [
    {
     "name": "stdout",
     "output_type": "stream",
     "text": [
      "['7739004195693774975', '3738968195649774859']\n",
      "['w305', 'w13549', 'w22752', 'w11', 'w7225', 'w2565', 'w1106', 'w16', 'w31389', 'w6', 'w1019', 'w69288', 'w111', 'w3332', 'w109', 'w11', 'w25', 'w1110', 'w111']\n"
     ]
    }
   ],
   "source": [
    "questions_topics = np.array(questions_topics)\n",
    "questions_title = np.array(question_titles)\n",
    "print(questions_topics[0])\n",
    "print(questions_title[0])"
   ]
  },
  {
   "cell_type": "code",
   "execution_count": 6,
   "metadata": {
    "collapsed": false
   },
   "outputs": [
    {
     "name": "stdout",
     "output_type": "stream",
     "text": [
      "[('7476760589625268543', 65989), ('4697014490911193675', 49192), ('-4653836020042332281', 45444)]\n",
      "CPU times: user 1.66 s, sys: 944 ms, total: 2.6 s\n",
      "Wall time: 3.97 s\n"
     ]
    }
   ],
   "source": [
    "%%time\n",
    "from collections import Counter\n",
    "topic_count = Counter([t for ts in questions_topics for t in ts])\n",
    "print(topic_count.most_common(3))"
   ]
  },
  {
   "cell_type": "code",
   "execution_count": 7,
   "metadata": {
    "collapsed": false
   },
   "outputs": [
    {
     "name": "stdout",
     "output_type": "stream",
     "text": [
      "['7476760589625268543' '65989']\n"
     ]
    }
   ],
   "source": [
    "topic_most_common = np.array(topic_count.most_common())\n",
    "print(topic_most_common[0])"
   ]
  },
  {
   "cell_type": "markdown",
   "metadata": {},
   "source": [
    "### 1999 Classifiers y"
   ]
  },
  {
   "cell_type": "code",
   "execution_count": 8,
   "metadata": {
    "collapsed": true
   },
   "outputs": [],
   "source": [
    "def tag_index(i, length=len(questions_topics)):\n",
    "    tag = topic_most_common[i][0]\n",
    "    y_index = []\n",
    "    for topics in questions_topics[:int(length)]:\n",
    "        if tag in topics:\n",
    "            y_index.append(1)\n",
    "        else:\n",
    "            y_index.append(0)\n",
    "    return y_index"
   ]
  },
  {
   "cell_type": "code",
   "execution_count": 9,
   "metadata": {
    "collapsed": false
   },
   "outputs": [
    {
     "name": "stdout",
     "output_type": "stream",
     "text": [
      "CPU times: user 665 ms, sys: 115 ms, total: 780 ms\n",
      "Wall time: 1.02 s\n"
     ]
    }
   ],
   "source": [
    "%time y_most_common = tag_index(0)"
   ]
  },
  {
   "cell_type": "code",
   "execution_count": 35,
   "metadata": {
    "collapsed": false
   },
   "outputs": [],
   "source": [
    "tag_lens = [len(i) for i in questions_topics]\n",
    "tmp = np.concatenate(questions_topics)\n",
    "def in_eachlist(l, search_num):\n",
    "    mask = tmp == search_num\n",
    "    return np.logical_or.reduceat(mask,np.concatenate(([0], np.cumsum(tag_lens[:-1]))) )"
   ]
  },
  {
   "cell_type": "code",
   "execution_count": 39,
   "metadata": {
    "collapsed": false
   },
   "outputs": [
    {
     "name": "stdout",
     "output_type": "stream",
     "text": [
      "CPU times: user 388 ms, sys: 25.2 ms, total: 413 ms\n",
      "Wall time: 414 ms\n"
     ]
    }
   ],
   "source": [
    "%time y_most_common_1 = in_eachlist(questions_topics, topic_most_common[0][0])"
   ]
  },
  {
   "cell_type": "code",
   "execution_count": 33,
   "metadata": {
    "collapsed": false
   },
   "outputs": [
    {
     "name": "stdout",
     "output_type": "stream",
     "text": [
      "[0, 0, 0, 0, 0, 0, 0, 0, 0, 0]\n",
      "[False False False False False False False False False False]\n"
     ]
    }
   ],
   "source": [
    "print(y_most_common[:10])\n",
    "print(y_most_common_1[:10])"
   ]
  },
  {
   "cell_type": "markdown",
   "metadata": {},
   "source": [
    "## stop words"
   ]
  },
  {
   "cell_type": "code",
   "execution_count": 11,
   "metadata": {
    "collapsed": true
   },
   "outputs": [],
   "source": [
    "word_low_frequency = [w[0] for w in word_most_common if w[1] <= 5]"
   ]
  },
  {
   "cell_type": "code",
   "execution_count": 14,
   "metadata": {
    "collapsed": false
   },
   "outputs": [
    {
     "name": "stdout",
     "output_type": "stream",
     "text": [
      "324960\n",
      "204962\n"
     ]
    }
   ],
   "source": [
    "print(len(word_most_common))\n",
    "print(len(word_low_frequency))"
   ]
  },
  {
   "cell_type": "code",
   "execution_count": null,
   "metadata": {
    "collapsed": true
   },
   "outputs": [],
   "source": [
    "from sklearn.feature_extraction.text import TfidfVectorizer"
   ]
  },
  {
   "cell_type": "markdown",
   "metadata": {},
   "source": [
    "## TfidfVectorizer params\n",
    "\n",
    "- `max_df`\n",
    "- `min_df`\n",
    "- `ngram_range`\n",
    "\n",
    "#### Factors in consideration.\n",
    "\n",
    "- accuracy, using `gridsearch` to optimize\n",
    "- time consuming\n",
    "    - less words, faster speed\n",
    "    - n-gram might have **higher order of magnitude**"
   ]
  },
  {
   "cell_type": "markdown",
   "metadata": {},
   "source": [
    "## GridSearchCV\n",
    "\n",
    "- time consume\n",
    "- accuracy\n",
    "    - can the result of one binary classifier represents the accuracy of 1999 classifiers?"
   ]
  },
  {
   "cell_type": "code",
   "execution_count": null,
   "metadata": {
    "collapsed": false
   },
   "outputs": [],
   "source": [
    "%%time\n",
    "# check tf-idf vect speed\n",
    "\n",
    "vect = TfidfVectorizer(max_df=0.85, min_df=5, ngram_range=(1,2))\n",
    "X_train = vect.fit_transform(questions.title.astype('U'))"
   ]
  },
  {
   "cell_type": "code",
   "execution_count": 12,
   "metadata": {
    "collapsed": false
   },
   "outputs": [
    {
     "data": {
      "text/plain": [
       "(2999967, 894346)"
      ]
     },
     "execution_count": 12,
     "metadata": {},
     "output_type": "execute_result"
    }
   ],
   "source": [
    "X_train.shape"
   ]
  },
  {
   "cell_type": "code",
   "execution_count": 60,
   "metadata": {
    "collapsed": false
   },
   "outputs": [
    {
     "name": "stdout",
     "output_type": "stream",
     "text": [
      "CPU times: user 3min 13s, sys: 10.8 s, total: 3min 24s\n",
      "Wall time: 3min 35s\n"
     ]
    },
    {
     "data": {
      "text/plain": [
       "(2999967, 232863)"
      ]
     },
     "execution_count": 60,
     "metadata": {},
     "output_type": "execute_result"
    }
   ],
   "source": [
    "vect_v2 = TfidfVectorizer(max_df=0.85, min_df=20, ngram_range=(1,2))\n",
    "%time X_train_v2 = vect_v2.fit_transform(questions.title.astype('U'))\n",
    "X_train_v2.shape"
   ]
  },
  {
   "cell_type": "code",
   "execution_count": 13,
   "metadata": {
    "collapsed": true
   },
   "outputs": [],
   "source": [
    "from sklearn.linear_model import SGDClassifier"
   ]
  },
  {
   "cell_type": "code",
   "execution_count": 43,
   "metadata": {
    "collapsed": false
   },
   "outputs": [
    {
     "name": "stdout",
     "output_type": "stream",
     "text": [
      "CPU times: user 38.7 ms, sys: 6.6 ms, total: 45.3 ms\n",
      "Wall time: 47.1 ms\n"
     ]
    },
    {
     "data": {
      "text/plain": [
       "SGDClassifier(alpha=1e-05, average=False, class_weight=None, epsilon=0.1,\n",
       "       eta0=0.0, fit_intercept=True, l1_ratio=0.15,\n",
       "       learning_rate='optimal', loss='modified_huber', n_iter=5, n_jobs=-1,\n",
       "       penalty='l2', power_t=0.5, random_state=None, shuffle=True,\n",
       "       verbose=0, warm_start=False)"
      ]
     },
     "execution_count": 43,
     "metadata": {},
     "output_type": "execute_result"
    }
   ],
   "source": [
    "model = SGDClassifier(alpha=10**-5, loss='modified_huber', n_jobs=-1)\n",
    "%time model.fit(X_train[:10**4], y_most_common[:10**4])"
   ]
  },
  {
   "cell_type": "code",
   "execution_count": 44,
   "metadata": {
    "collapsed": false
   },
   "outputs": [
    {
     "name": "stdout",
     "output_type": "stream",
     "text": [
      "CPU times: user 14.2 ms, sys: 4.88 ms, total: 19 ms\n",
      "Wall time: 17 ms\n"
     ]
    },
    {
     "data": {
      "text/plain": [
       "SGDClassifier(alpha=1e-05, average=False, class_weight=None, epsilon=0.1,\n",
       "       eta0=0.0, fit_intercept=True, l1_ratio=0.15,\n",
       "       learning_rate='optimal', loss='modified_huber', n_iter=1, n_jobs=-1,\n",
       "       penalty='l2', power_t=0.5, random_state=None, shuffle=True,\n",
       "       verbose=0, warm_start=False)"
      ]
     },
     "execution_count": 44,
     "metadata": {},
     "output_type": "execute_result"
    }
   ],
   "source": [
    "model = SGDClassifier(alpha=10**-5, loss='modified_huber', n_jobs=-1, n_iter=1)\n",
    "%time model.fit(X_train[:10**4], y_most_common[:10**4])"
   ]
  },
  {
   "cell_type": "code",
   "execution_count": 45,
   "metadata": {
    "collapsed": false
   },
   "outputs": [
    {
     "name": "stdout",
     "output_type": "stream",
     "text": [
      "CPU times: user 2.53 s, sys: 1.54 s, total: 4.08 s\n",
      "Wall time: 5.6 s\n"
     ]
    },
    {
     "data": {
      "text/plain": [
       "SGDClassifier(alpha=1e-05, average=False, class_weight=None, epsilon=0.1,\n",
       "       eta0=0.0, fit_intercept=True, l1_ratio=0.15,\n",
       "       learning_rate='optimal', loss='modified_huber', n_iter=1, n_jobs=-1,\n",
       "       penalty='l2', power_t=0.5, random_state=None, shuffle=True,\n",
       "       verbose=0, warm_start=False)"
      ]
     },
     "execution_count": 45,
     "metadata": {},
     "output_type": "execute_result"
    }
   ],
   "source": [
    "model = SGDClassifier(alpha=10**-5, loss='modified_huber', n_jobs=-1, n_iter=1)\n",
    "%time model.fit(X_train, y_most_common)"
   ]
  },
  {
   "cell_type": "markdown",
   "metadata": {},
   "source": [
    "## Optimize SGD params\n",
    "\n",
    "### Choosing the reasonable `scoring` is important"
   ]
  },
  {
   "cell_type": "code",
   "execution_count": 46,
   "metadata": {
    "collapsed": true
   },
   "outputs": [],
   "source": [
    "from sklearn.model_selection import GridSearchCV"
   ]
  },
  {
   "cell_type": "code",
   "execution_count": 77,
   "metadata": {
    "collapsed": false
   },
   "outputs": [],
   "source": [
    "params = {'alpha': 10**np.arange(-10,-5, dtype=float), 'n_iter': [1,3,5]}\n",
    "grid = GridSearchCV(SGDClassifier(loss='modified_huber', n_jobs=-1), param_grid=params, n_jobs=-1, scoring='recall')"
   ]
  },
  {
   "cell_type": "code",
   "execution_count": 81,
   "metadata": {
    "collapsed": false,
    "scrolled": true
   },
   "outputs": [
    {
     "name": "stdout",
     "output_type": "stream",
     "text": [
      "CPU times: user 7.1 s, sys: 22.3 s, total: 29.4 s\n",
      "Wall time: 47.8 s\n",
      "{'alpha': 9.9999999999999995e-08, 'n_iter': 1}\n"
     ]
    },
    {
     "data": {
      "text/plain": [
       "{'mean_fit_time': array([ 0.44885969,  0.52336065,  0.61670129,  0.35725236,  0.40181645,\n",
       "         0.48096697,  0.2586472 ,  0.31735714,  0.49081119,  0.28111172,\n",
       "         0.42776863,  0.46219897,  0.25623949,  0.33877182,  0.33589641]),\n",
       " 'mean_score_time': array([ 0.05107538,  0.04293402,  0.05891426,  0.05032269,  0.03461909,\n",
       "         0.03070807,  0.0314587 ,  0.03524955,  0.03147046,  0.05263591,\n",
       "         0.02711741,  0.03168575,  0.03888583,  0.0299499 ,  0.01723433]),\n",
       " 'mean_test_score': array([ 0.05975525,  0.03925213,  0.0348875 ,  0.07980201,  0.03881194,\n",
       "         0.03706174,  0.08240697,  0.05277452,  0.04274083,  0.08678442,\n",
       "         0.04622562,  0.03008992,  0.0675835 ,  0.03838233,  0.02965976]),\n",
       " 'mean_train_score': array([ 0.7612211 ,  0.90732402,  0.95159008,  0.8246888 ,  0.91016268,\n",
       "         0.95988221,  0.79896392,  0.91910241,  0.96380178,  0.79350132,\n",
       "         0.92672854,  0.96075025,  0.79743459,  0.94046885,  0.9866977 ]),\n",
       " 'param_alpha': masked_array(data = [1e-10 1e-10 1e-10 1.0000000000000001e-09 1.0000000000000001e-09\n",
       "  1.0000000000000001e-09 1e-08 1e-08 1e-08 9.9999999999999995e-08\n",
       "  9.9999999999999995e-08 9.9999999999999995e-08 9.9999999999999995e-07\n",
       "  9.9999999999999995e-07 9.9999999999999995e-07],\n",
       "              mask = [False False False False False False False False False False False False\n",
       "  False False False],\n",
       "        fill_value = ?),\n",
       " 'param_n_iter': masked_array(data = [1 3 5 1 3 5 1 3 5 1 3 5 1 3 5],\n",
       "              mask = [False False False False False False False False False False False False\n",
       "  False False False],\n",
       "        fill_value = ?),\n",
       " 'params': ({'alpha': 1e-10, 'n_iter': 1},\n",
       "  {'alpha': 1e-10, 'n_iter': 3},\n",
       "  {'alpha': 1e-10, 'n_iter': 5},\n",
       "  {'alpha': 1.0000000000000001e-09, 'n_iter': 1},\n",
       "  {'alpha': 1.0000000000000001e-09, 'n_iter': 3},\n",
       "  {'alpha': 1.0000000000000001e-09, 'n_iter': 5},\n",
       "  {'alpha': 1e-08, 'n_iter': 1},\n",
       "  {'alpha': 1e-08, 'n_iter': 3},\n",
       "  {'alpha': 1e-08, 'n_iter': 5},\n",
       "  {'alpha': 9.9999999999999995e-08, 'n_iter': 1},\n",
       "  {'alpha': 9.9999999999999995e-08, 'n_iter': 3},\n",
       "  {'alpha': 9.9999999999999995e-08, 'n_iter': 5},\n",
       "  {'alpha': 9.9999999999999995e-07, 'n_iter': 1},\n",
       "  {'alpha': 9.9999999999999995e-07, 'n_iter': 3},\n",
       "  {'alpha': 9.9999999999999995e-07, 'n_iter': 5}),\n",
       " 'rank_test_score': array([ 5,  9, 13,  3, 10, 12,  2,  6,  8,  1,  7, 14,  4, 11, 15], dtype=int32),\n",
       " 'split0_test_score': array([ 0.04052288,  0.03398693,  0.0379085 ,  0.09411765,  0.04313725,\n",
       "         0.05490196,  0.12418301,  0.04052288,  0.0379085 ,  0.09019608,\n",
       "         0.05098039,  0.03398693,  0.09934641,  0.02745098,  0.01960784]),\n",
       " 'split0_train_score': array([ 0.72120419,  0.89528796,  0.94371728,  0.84751309,  0.91623037,\n",
       "         0.97971204,  0.84751309,  0.92277487,  0.95876963,  0.79057592,\n",
       "         0.90379581,  0.96138743,  0.83246073,  0.93062827,  0.98232984]),\n",
       " 'split1_test_score': array([ 0.06020942,  0.03795812,  0.03010471,  0.07853403,  0.04450262,\n",
       "         0.03272251,  0.08115183,  0.04842932,  0.04712042,  0.08246073,\n",
       "         0.04319372,  0.02748691,  0.06544503,  0.05104712,  0.03926702]),\n",
       " 'split1_train_score': array([ 0.76062786,  0.90451275,  0.94833224,  0.79659908,  0.90843689,\n",
       "         0.9587966 ,  0.7998692 ,  0.9058208 ,  0.95814258,  0.79071288,\n",
       "         0.91432309,  0.96337475,  0.79659908,  0.96729889,  0.98888162]),\n",
       " 'split2_test_score': array([ 0.07853403,  0.04581152,  0.03664921,  0.06675393,  0.02879581,\n",
       "         0.02356021,  0.04188482,  0.06937173,  0.04319372,  0.08769634,\n",
       "         0.04450262,  0.02879581,  0.03795812,  0.03664921,  0.03010471]),\n",
       " 'split2_train_score': array([ 0.80183126,  0.92217135,  0.96272073,  0.82995422,  0.9058208 ,\n",
       "         0.941138  ,  0.74950948,  0.92871158,  0.97449313,  0.79921517,\n",
       "         0.96206671,  0.95748855,  0.76324395,  0.9234794 ,  0.98888162]),\n",
       " 'std_fit_time': array([ 0.01607991,  0.01757205,  0.03336346,  0.02608644,  0.03193178,\n",
       "         0.03156691,  0.02611838,  0.01082053,  0.02438286,  0.03949749,\n",
       "         0.03300584,  0.01354036,  0.00562173,  0.02106029,  0.03056576]),\n",
       " 'std_score_time': array([ 0.00601076,  0.00269836,  0.01602409,  0.01126349,  0.00756476,\n",
       "         0.00763992,  0.0070861 ,  0.00914981,  0.00343787,  0.02423069,\n",
       "         0.00203621,  0.00563524,  0.01119882,  0.00316243,  0.00161163]),\n",
       " 'std_test_score': array([ 0.01552135,  0.00491333,  0.00342077,  0.01120714,  0.00710432,\n",
       "         0.01315799,  0.0336099 ,  0.0121717 ,  0.00377437,  0.00322311,\n",
       "         0.00340438,  0.00280697,  0.0251073 ,  0.00971075,  0.00803201]),\n",
       " 'std_train_score': array([ 0.03291854,  0.01115367,  0.00809292,  0.02111638,  0.00442143,\n",
       "         0.01576649,  0.04001492,  0.00969921,  0.00756426,  0.00404069,\n",
       "         0.02535476,  0.00244491,  0.02826381,  0.01919487,  0.00308854])}"
      ]
     },
     "execution_count": 81,
     "metadata": {},
     "output_type": "execute_result"
    }
   ],
   "source": [
    "%time grid.fit(X_train_v2[:10**5], y_most_common[:10**5])\n",
    "print(grid.best_params_)\n",
    "grid.cv_results_"
   ]
  },
  {
   "cell_type": "code",
   "execution_count": 78,
   "metadata": {
    "collapsed": false
   },
   "outputs": [
    {
     "name": "stdout",
     "output_type": "stream",
     "text": [
      "CPU times: user 7.18 s, sys: 22.1 s, total: 29.3 s\n",
      "Wall time: 44.8 s\n"
     ]
    },
    {
     "data": {
      "text/plain": [
       "GridSearchCV(cv=None, error_score='raise',\n",
       "       estimator=SGDClassifier(alpha=0.0001, average=False, class_weight=None, epsilon=0.1,\n",
       "       eta0=0.0, fit_intercept=True, l1_ratio=0.15,\n",
       "       learning_rate='optimal', loss='modified_huber', n_iter=5, n_jobs=-1,\n",
       "       penalty='l2', power_t=0.5, random_state=None, shuffle=True,\n",
       "       verbose=0, warm_start=False),\n",
       "       fit_params={}, iid=True, n_jobs=-1,\n",
       "       param_grid={'alpha': array([  1.00000e-10,   1.00000e-09,   1.00000e-08,   1.00000e-07,\n",
       "         1.00000e-06]), 'n_iter': [1, 3, 5]},\n",
       "       pre_dispatch='2*n_jobs', refit=True, return_train_score=True,\n",
       "       scoring='recall', verbose=0)"
      ]
     },
     "execution_count": 78,
     "metadata": {},
     "output_type": "execute_result"
    }
   ],
   "source": [
    "%time grid.fit(X_train[:10**5], y_most_common[:10**5])"
   ]
  },
  {
   "cell_type": "code",
   "execution_count": 79,
   "metadata": {
    "collapsed": false,
    "scrolled": true
   },
   "outputs": [
    {
     "name": "stdout",
     "output_type": "stream",
     "text": [
      "{'alpha': 9.9999999999999995e-08, 'n_iter': 1}\n"
     ]
    },
    {
     "data": {
      "text/plain": [
       "{'mean_fit_time': array([ 0.55363361,  0.51156791,  0.49278593,  0.30294998,  0.4300673 ,\n",
       "         0.51456364,  0.31081223,  0.38770509,  0.49239516,  0.31108093,\n",
       "         0.38887612,  0.46929765,  0.3062652 ,  0.41853786,  0.41771897]),\n",
       " 'mean_score_time': array([ 0.03201501,  0.03833834,  0.03407439,  0.03110655,  0.06620797,\n",
       "         0.03215432,  0.03000808,  0.03049628,  0.03039336,  0.02881972,\n",
       "         0.03358698,  0.03683917,  0.03507447,  0.0280629 ,  0.02095946]),\n",
       " 'mean_test_score': array([ 0.06977612,  0.03053346,  0.02180755,  0.06628353,  0.01831439,\n",
       "         0.01744626,  0.10205533,  0.03009159,  0.02311643,  0.11076118,\n",
       "         0.02573142,  0.0191881 ,  0.08897258,  0.02572919,  0.01788088]),\n",
       " 'mean_train_score': array([ 0.86829527,  0.97513988,  0.99062511,  0.88334292,  0.96249673,\n",
       "         0.97361269,  0.91059513,  0.96511154,  0.98059078,  0.91561315,\n",
       "         0.96751005,  0.98408189,  0.91517471,  0.9810295 ,  0.99869153]),\n",
       " 'param_alpha': masked_array(data = [1e-10 1e-10 1e-10 1.0000000000000001e-09 1.0000000000000001e-09\n",
       "  1.0000000000000001e-09 1e-08 1e-08 1e-08 9.9999999999999995e-08\n",
       "  9.9999999999999995e-08 9.9999999999999995e-08 9.9999999999999995e-07\n",
       "  9.9999999999999995e-07 9.9999999999999995e-07],\n",
       "              mask = [False False False False False False False False False False False False\n",
       "  False False False],\n",
       "        fill_value = ?),\n",
       " 'param_n_iter': masked_array(data = [1 3 5 1 3 5 1 3 5 1 3 5 1 3 5],\n",
       "              mask = [False False False False False False False False False False False False\n",
       "  False False False],\n",
       "        fill_value = ?),\n",
       " 'params': ({'alpha': 1e-10, 'n_iter': 1},\n",
       "  {'alpha': 1e-10, 'n_iter': 3},\n",
       "  {'alpha': 1e-10, 'n_iter': 5},\n",
       "  {'alpha': 1.0000000000000001e-09, 'n_iter': 1},\n",
       "  {'alpha': 1.0000000000000001e-09, 'n_iter': 3},\n",
       "  {'alpha': 1.0000000000000001e-09, 'n_iter': 5},\n",
       "  {'alpha': 1e-08, 'n_iter': 1},\n",
       "  {'alpha': 1e-08, 'n_iter': 3},\n",
       "  {'alpha': 1e-08, 'n_iter': 5},\n",
       "  {'alpha': 9.9999999999999995e-08, 'n_iter': 1},\n",
       "  {'alpha': 9.9999999999999995e-08, 'n_iter': 3},\n",
       "  {'alpha': 9.9999999999999995e-08, 'n_iter': 5},\n",
       "  {'alpha': 9.9999999999999995e-07, 'n_iter': 1},\n",
       "  {'alpha': 9.9999999999999995e-07, 'n_iter': 3},\n",
       "  {'alpha': 9.9999999999999995e-07, 'n_iter': 5}),\n",
       " 'rank_test_score': array([ 4,  6, 11,  5, 13, 15,  2,  7, 10,  1,  8, 12,  3,  9, 14], dtype=int32),\n",
       " 'split0_test_score': array([ 0.07320261,  0.01699346,  0.01699346,  0.07843137,  0.02352941,\n",
       "         0.0130719 ,  0.08888889,  0.03006536,  0.01699346,  0.13594771,\n",
       "         0.02352941,  0.02091503,  0.0745098 ,  0.02875817,  0.01699346]),\n",
       " 'split0_train_score': array([ 0.87041885,  0.96662304,  0.9973822 ,  0.89397906,  0.97251309,\n",
       "         0.96138743,  0.89986911,  0.96662304,  0.96989529,  0.91753927,\n",
       "         0.96858639,  0.98363874,  0.90641361,  0.98232984,  0.99803665]),\n",
       " 'split1_test_score': array([ 0.03795812,  0.03795812,  0.02225131,  0.07329843,  0.01439791,\n",
       "         0.02356021,  0.13350785,  0.02617801,  0.01963351,  0.08376963,\n",
       "         0.02617801,  0.0117801 ,  0.07853403,  0.02094241,  0.01308901]),\n",
       " 'split1_train_score': array([ 0.84368869,  0.98495749,  0.98953564,  0.8940484 ,  0.96075867,\n",
       "         0.98430347,  0.92413342,  0.94964029,  0.98430347,  0.90647482,\n",
       "         0.96926095,  0.97710922,  0.91366906,  0.97710922,  0.99934598]),\n",
       " 'split2_test_score': array([ 0.09816754,  0.03664921,  0.02617801,  0.04712042,  0.01701571,\n",
       "         0.01570681,  0.08376963,  0.03403141,  0.03272251,  0.11256545,\n",
       "         0.02748691,  0.02486911,  0.11387435,  0.02748691,  0.02356021]),\n",
       " 'split2_train_score': array([ 0.89077829,  0.97383911,  0.98495749,  0.86200131,  0.95421844,\n",
       "         0.97514716,  0.90778286,  0.97907129,  0.98757358,  0.92282538,\n",
       "         0.9646828 ,  0.99149771,  0.92544147,  0.98364944,  0.99869196]),\n",
       " 'std_fit_time': array([ 0.03777953,  0.06757616,  0.02111957,  0.01189099,  0.04065989,\n",
       "         0.00441584,  0.01732269,  0.01835512,  0.01987517,  0.02746851,\n",
       "         0.01349205,  0.01550746,  0.01177151,  0.04838633,  0.02211303]),\n",
       " 'std_score_time': array([ 0.00358046,  0.00678543,  0.0053346 ,  0.00495149,  0.03584734,\n",
       "         0.00123858,  0.00248094,  0.00369419,  0.00239016,  0.00208898,\n",
       "         0.00494444,  0.00686907,  0.00480741,  0.00212322,  0.00718522]),\n",
       " 'std_test_score': array([ 0.0246994 ,  0.00958927,  0.00376269,  0.01371134,  0.00383937,\n",
       "         0.004455  ,  0.02233811,  0.00320618,  0.00687745,  0.02133984,\n",
       "         0.00164622,  0.00548129,  0.01768455,  0.0034243 ,  0.00432064]),\n",
       " 'std_train_score': array([ 0.0192828 ,  0.00754131,  0.00513053,  0.01509083,  0.0075692 ,\n",
       "         0.00941814,  0.01010349,  0.0120626 ,  0.00767978,  0.00681262,\n",
       "         0.00201805,  0.00588243,  0.00784071,  0.00282392,  0.00053453])}"
      ]
     },
     "execution_count": 79,
     "metadata": {},
     "output_type": "execute_result"
    }
   ],
   "source": [
    "print(grid.best_params_)\n",
    "grid.cv_results_"
   ]
  },
  {
   "cell_type": "code",
   "execution_count": null,
   "metadata": {
    "collapsed": true
   },
   "outputs": [],
   "source": []
  },
  {
   "cell_type": "code",
   "execution_count": 14,
   "metadata": {
    "collapsed": true
   },
   "outputs": [],
   "source": [
    "from tqdm import tqdm_notebook\n",
    "\n",
    "def predict(clf_list, length=2999967, start=0, word_tfidf=X_train):\n",
    "    predict_list = []\n",
    "    for clf in tqdm_notebook(clf_list):\n",
    "        try:\n",
    "            result = [1-j[0] for j in clf.predict_proba(word_tfidf[start:start+length])]\n",
    "        except:\n",
    "            result = np.zeros(length)\n",
    "        predict_list.append(result)\n",
    "    return predict_list"
   ]
  },
  {
   "cell_type": "code",
   "execution_count": 87,
   "metadata": {
    "collapsed": false
   },
   "outputs": [
    {
     "name": "stdout",
     "output_type": "stream",
     "text": [
      "\n"
     ]
    }
   ],
   "source": [
    "sgd_list = [SGDClassifier(loss=\"modified_huber\", penalty=\"l2\", n_jobs=-1, alpha=1e-7, n_iter=1) for _ in range(1999)]\n",
    "\n",
    "for i in tqdm_notebook(range(1999)):\n",
    "    sgd = sgd_list[i]\n",
    "    y_tag = tag_index(i, 10**5)\n",
    "    sgd.fit(X_train[:10**5], y_tag[:10**5]) \n",
    "#     joblib.dump(clf, 'sgd_classifier_v2/sgd_{}.pkl'.format(i)) "
   ]
  },
  {
   "cell_type": "code",
   "execution_count": 89,
   "metadata": {
    "collapsed": false
   },
   "outputs": [
    {
     "name": "stdout",
     "output_type": "stream",
     "text": [
      "\n"
     ]
    }
   ],
   "source": [
    "predict_list = predict(sgd_list, 10**5)"
   ]
  },
  {
   "cell_type": "code",
   "execution_count": 15,
   "metadata": {
    "collapsed": false
   },
   "outputs": [
    {
     "name": "stdout",
     "output_type": "stream",
     "text": [
      "CPU times: user 3.19 ms, sys: 1.73 ms, total: 4.92 ms\n",
      "Wall time: 12.9 ms\n"
     ]
    }
   ],
   "source": [
    "%time topic_map = {i: v[0] for i, v in enumerate(topic_most_common)}"
   ]
  },
  {
   "cell_type": "code",
   "execution_count": 43,
   "metadata": {
    "collapsed": false
   },
   "outputs": [],
   "source": [
    "# def _transform(predict_list):\n",
    "#     result = []\n",
    "#     for i in range(len(predict_list[0])):\n",
    "#         _list = []\n",
    "#         for j in range(len(predict_list)):\n",
    "#             _list.append(predict_list[j][i])\n",
    "#         result.append(_list)\n",
    "#     return result\n",
    "\n",
    "def transform(predict_list):\n",
    "    return np.array(predict_list).T\n",
    "\n",
    "# import heapq\n",
    "def top_five(predict_list):\n",
    "    return np.array(predict_list).argsort()[-5:][::-1]\n",
    "#     return [i[1] for i in heapq.nlargest(5, ((v, i) for i, v in enumerate(predict_list)))]\n",
    "\n",
    "\n",
    "def transform_predict(predict_list):\n",
    "    predict_list_t = transform(predict_list)\n",
    "    result = []\n",
    "    for p in predict_list_t:\n",
    "        result.append(list(map(lambda x: topic_map[x], top_five(p))))\n",
    "    return result"
   ]
  },
  {
   "cell_type": "code",
   "execution_count": 91,
   "metadata": {
    "collapsed": true
   },
   "outputs": [],
   "source": [
    "result = transform_predict(predict_list)"
   ]
  },
  {
   "cell_type": "code",
   "execution_count": 95,
   "metadata": {
    "collapsed": false
   },
   "outputs": [
    {
     "data": {
      "text/plain": [
       "(0.6105787508041599, 2.0676889633119226, 0.8664320196464315, 206041, 237804)"
      ]
     },
     "execution_count": 95,
     "metadata": {},
     "output_type": "execute_result"
    }
   ],
   "source": [
    "from evaluate import evaluate\n",
    "evaluate(zip(result, questions_topics[:10**5]))"
   ]
  },
  {
   "cell_type": "markdown",
   "metadata": {},
   "source": [
    "## multiprocessing"
   ]
  },
  {
   "cell_type": "code",
   "execution_count": 17,
   "metadata": {
    "collapsed": true
   },
   "outputs": [],
   "source": [
    "import multiprocessing"
   ]
  },
  {
   "cell_type": "code",
   "execution_count": 21,
   "metadata": {
    "collapsed": false
   },
   "outputs": [],
   "source": [
    "from sklearn.externals import joblib\n",
    "\n",
    "def fit(args):\n",
    "    i, clf = args\n",
    "    y = tag_index(i)\n",
    "    clf.fit(X_train, y)\n",
    "    joblib.dump(clf, 'sgd_classifier_v3/sgd_{}.pkl'.format(i)) \n",
    "    return i"
   ]
  },
  {
   "cell_type": "code",
   "execution_count": 22,
   "metadata": {
    "collapsed": false
   },
   "outputs": [
    {
     "data": {
      "text/plain": [
       "(0, SGDClassifier(alpha=1e-07, average=False, class_weight=None, epsilon=0.1,\n",
       "        eta0=0.0, fit_intercept=True, l1_ratio=0.15,\n",
       "        learning_rate='optimal', loss='modified_huber', n_iter=1, n_jobs=-1,\n",
       "        penalty='l2', power_t=0.5, random_state=None, shuffle=True,\n",
       "        verbose=0, warm_start=False))"
      ]
     },
     "execution_count": 22,
     "metadata": {},
     "output_type": "execute_result"
    }
   ],
   "source": [
    "sgd_train_list = [(i, SGDClassifier(loss=\"modified_huber\", penalty=\"l2\", n_jobs=-1, alpha=1e-7, n_iter=1)) for i in range(1999)]\n",
    "sgd_train_list[0]"
   ]
  },
  {
   "cell_type": "code",
   "execution_count": 23,
   "metadata": {
    "collapsed": false
   },
   "outputs": [
    {
     "name": "stdout",
     "output_type": "stream",
     "text": [
      "4\n"
     ]
    }
   ],
   "source": [
    "cores = multiprocessing.cpu_count()\n",
    "pool = multiprocessing.Pool(processes=cores)\n",
    "print(cores)"
   ]
  },
  {
   "cell_type": "code",
   "execution_count": null,
   "metadata": {
    "collapsed": false
   },
   "outputs": [
    {
     "name": "stdout",
     "output_type": "stream",
     "text": [
      "CPU times: user 4.44 s, sys: 1.39 s, total: 5.84 s\n",
      "Wall time: 56min 26s\n"
     ]
    }
   ],
   "source": [
    "%%time\n",
    "l = pool.map(fit, sgd_train_list)"
   ]
  },
  {
   "cell_type": "code",
   "execution_count": 2,
   "metadata": {
    "collapsed": false
   },
   "outputs": [
    {
     "name": "stdout",
     "output_type": "stream",
     "text": [
      "CPU times: user 7.99 s, sys: 13.4 s, total: 21.4 s\n",
      "Wall time: 33.9 s\n"
     ]
    }
   ],
   "source": [
    "%%time\n",
    "\n",
    "from sklearn.externals import joblib\n",
    "\n",
    "sgd_list = []\n",
    "for i in range(1999):\n",
    "    sgd_list.append(joblib.load('sgd_classifier_v3/sgd_{}.pkl'.format(i)))"
   ]
  },
  {
   "cell_type": "markdown",
   "metadata": {},
   "source": [
    "## format test data "
   ]
  },
  {
   "cell_type": "code",
   "execution_count": null,
   "metadata": {
    "collapsed": false
   },
   "outputs": [],
   "source": [
    "%%time\n",
    "test_questions = pd.read_csv('./question_eval_set.txt', sep='\\t', names=['id', 'c', 'w', 'd_c', 'd_w'])\n",
    "X_test = vect.transform(test_questions.w.astype('U'))"
   ]
  },
  {
   "cell_type": "code",
   "execution_count": 27,
   "metadata": {
    "collapsed": false
   },
   "outputs": [
    {
     "data": {
      "text/plain": [
       "(217360, 894346)"
      ]
     },
     "execution_count": 27,
     "metadata": {},
     "output_type": "execute_result"
    }
   ],
   "source": [
    "X_test.shape"
   ]
  },
  {
   "cell_type": "markdown",
   "metadata": {},
   "source": [
    "## predict"
   ]
  },
  {
   "cell_type": "code",
   "execution_count": null,
   "metadata": {
    "collapsed": false
   },
   "outputs": [],
   "source": [
    "%%time\n",
    "predict_list = predict(sgd_list, 217360, word_tfidf=X_test)"
   ]
  },
  {
   "cell_type": "code",
   "execution_count": 44,
   "metadata": {
    "collapsed": false
   },
   "outputs": [
    {
     "name": "stdout",
     "output_type": "stream",
     "text": [
      "CPU times: user 16.1 s, sys: 6.19 s, total: 22.3 s\n",
      "Wall time: 28.6 s\n"
     ]
    }
   ],
   "source": [
    "%%time\n",
    "result = transform_predict(predict_list)"
   ]
  },
  {
   "cell_type": "code",
   "execution_count": 45,
   "metadata": {
    "collapsed": false
   },
   "outputs": [
    {
     "name": "stdout",
     "output_type": "stream",
     "text": [
      "CPU times: user 4.87 s, sys: 132 ms, total: 5 s\n",
      "Wall time: 5.15 s\n"
     ]
    },
    {
     "data": {
      "text/plain": [
       "'6215603645409872328,1797701934329285597,6756871902441838709,-2667619839677460873,3359253792326581125,8852526557827312102'"
      ]
     },
     "execution_count": 45,
     "metadata": {},
     "output_type": "execute_result"
    }
   ],
   "source": [
    "%time result = [str(test_questions.id[i])+','+','.join(v) for i, v in enumerate(result)]\n",
    "result[0]"
   ]
  },
  {
   "cell_type": "code",
   "execution_count": null,
   "metadata": {
    "collapsed": true
   },
   "outputs": [],
   "source": []
  },
  {
   "cell_type": "code",
   "execution_count": null,
   "metadata": {
    "collapsed": true
   },
   "outputs": [],
   "source": []
  },
  {
   "cell_type": "code",
   "execution_count": null,
   "metadata": {
    "collapsed": true
   },
   "outputs": [],
   "source": []
  },
  {
   "cell_type": "code",
   "execution_count": 46,
   "metadata": {
    "collapsed": false
   },
   "outputs": [
    {
     "name": "stdout",
     "output_type": "stream",
     "text": [
      "CPU times: user 3.13 s, sys: 2.71 s, total: 5.84 s\n",
      "Wall time: 10.9 s\n"
     ]
    }
   ],
   "source": [
    "%%time\n",
    "\n",
    "\n",
    "sgd_list_v1 = []\n",
    "for i in range(1999):\n",
    "    sgd_list_v1.append(joblib.load('sgd_classifier/sgd_{}.pkl'.format(i)))"
   ]
  },
  {
   "cell_type": "code",
   "execution_count": 48,
   "metadata": {
    "collapsed": false
   },
   "outputs": [
    {
     "name": "stdout",
     "output_type": "stream",
     "text": [
      "\n"
     ]
    }
   ],
   "source": [
    "predict_list = predict(sgd_list_v1, 10**4)"
   ]
  },
  {
   "cell_type": "code",
   "execution_count": 49,
   "metadata": {
    "collapsed": false
   },
   "outputs": [
    {
     "name": "stdout",
     "output_type": "stream",
     "text": [
      "CPU times: user 519 ms, sys: 120 ms, total: 639 ms\n",
      "Wall time: 649 ms\n"
     ]
    }
   ],
   "source": [
    "%time result = transform_predict(predict_list)"
   ]
  },
  {
   "cell_type": "code",
   "execution_count": 51,
   "metadata": {
    "collapsed": false
   },
   "outputs": [
    {
     "data": {
      "text/plain": [
       "(0.0008686307301261166, 0.0025033434630589886, 0.001330191547582852, 35, 26312)"
      ]
     },
     "execution_count": 51,
     "metadata": {},
     "output_type": "execute_result"
    }
   ],
   "source": [
    "from evaluate import evaluate\n",
    "evaluate(zip(result, questions_topics[:10**4]))"
   ]
  },
  {
   "cell_type": "code",
   "execution_count": null,
   "metadata": {
    "collapsed": true
   },
   "outputs": [],
   "source": []
  }
 ],
 "metadata": {
  "kernelspec": {
   "display_name": "Python 3",
   "language": "python",
   "name": "python3"
  },
  "language_info": {
   "codemirror_mode": {
    "name": "ipython",
    "version": 3
   },
   "file_extension": ".py",
   "mimetype": "text/x-python",
   "name": "python",
   "nbconvert_exporter": "python",
   "pygments_lexer": "ipython3",
   "version": "3.6.0"
  }
 },
 "nbformat": 4,
 "nbformat_minor": 2
}
