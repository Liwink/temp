{
 "cells": [
  {
   "cell_type": "code",
   "execution_count": 1,
   "metadata": {
    "collapsed": true
   },
   "outputs": [],
   "source": [
    "from collections import Counter\n",
    "from collections import defaultdict\n",
    "import networkx as nx\n",
    "\n",
    "import pandas as pd\n",
    "import numpy as np\n",
    "\n",
    "from tqdm import tqdm_notebook"
   ]
  },
  {
   "cell_type": "code",
   "execution_count": 2,
   "metadata": {
    "collapsed": false
   },
   "outputs": [
    {
     "name": "stdout",
     "output_type": "stream",
     "text": [
      "CPU times: user 17.1 s, sys: 3.86 s, total: 20.9 s\n",
      "Wall time: 24.6 s\n"
     ]
    }
   ],
   "source": [
    "%time questions = pd.read_csv('./question_train_word.csv')"
   ]
  },
  {
   "cell_type": "code",
   "execution_count": 3,
   "metadata": {
    "collapsed": false,
    "scrolled": true
   },
   "outputs": [
    {
     "name": "stdout",
     "output_type": "stream",
     "text": [
      "Index(['Unnamed: 0', 'Unnamed: 0.1', 'id', 'title', 'description', 'topics'], dtype='object')\n",
      "CPU times: user 3.78 s, sys: 536 ms, total: 4.32 s\n",
      "Wall time: 5.36 s\n",
      "CPU times: user 8.51 s, sys: 1.84 s, total: 10.3 s\n",
      "Wall time: 14 s\n"
     ]
    }
   ],
   "source": [
    "print(questions.columns)\n",
    "%time questions_topics = questions.topics.apply(lambda s: s.split(','))\n",
    "%time questions_titles = questions.title.astype('U').apply(lambda s: s.split(','))"
   ]
  },
  {
   "cell_type": "markdown",
   "metadata": {},
   "source": [
    "## co-occurence\n",
    "\n",
    "- filter stopwords: top 10 and less then 20 times (20/1000)\n",
    "- count:\n",
    "    - word in title\n",
    "    - word and tag co-occurence\n",
    "- calculate probability: P(tag|word)\n"
   ]
  },
  {
   "cell_type": "code",
   "execution_count": 4,
   "metadata": {
    "collapsed": false
   },
   "outputs": [
    {
     "name": "stdout",
     "output_type": "stream",
     "text": [
      "CPU times: user 1.53 s, sys: 1.22 s, total: 2.75 s\n",
      "Wall time: 3.67 s\n",
      "CPU times: user 9.35 s, sys: 1.47 s, total: 10.8 s\n",
      "Wall time: 11.6 s\n"
     ]
    },
    {
     "data": {
      "text/plain": [
       "[('w111', 2976600),\n",
       " ('w6', 1921785),\n",
       " ('w11', 1474827),\n",
       " ('w109', 552983),\n",
       " ('w54', 547054),\n",
       " ('w25', 526597),\n",
       " ('w471', 433385),\n",
       " ('w4016', 419135),\n",
       " ('w1110', 389917),\n",
       " ('w10147', 351932)]"
      ]
     },
     "execution_count": 4,
     "metadata": {},
     "output_type": "execute_result"
    }
   ],
   "source": [
    "# stop words\n",
    "%time title_words = [w for ws in questions_titles for w in ws]\n",
    "%time title_words_count = Counter(title_words)\n",
    "title_words_count.most_common(10)"
   ]
  },
  {
   "cell_type": "code",
   "execution_count": 5,
   "metadata": {
    "collapsed": false
   },
   "outputs": [
    {
     "name": "stdout",
     "output_type": "stream",
     "text": [
      "CPU times: user 1.02 s, sys: 39.3 ms, total: 1.06 s\n",
      "Wall time: 1.1 s\n",
      "264274\n",
      "2999967\n",
      "324960\n"
     ]
    }
   ],
   "source": [
    "%time title_words_most_common = title_words_count.most_common()\n",
    "stopwords = [w for w, i in title_words_most_common if i < 20 or i > 0.25*len(questions_titles)]\n",
    "title_words_set = set(title_words)\n",
    "active_words = title_words_set.difference(set(stopwords))\n",
    "print(len(stopwords))\n",
    "print(len(questions_titles))\n",
    "print(len(title_words_set))"
   ]
  },
  {
   "cell_type": "code",
   "execution_count": 7,
   "metadata": {
    "collapsed": false
   },
   "outputs": [
    {
     "name": "stdout",
     "output_type": "stream",
     "text": [
      "2619043/|/ 87%|| 2619043/2999967 [14:14<02:04, 3063.90it/s]\n"
     ]
    }
   ],
   "source": [
    "W = nx.Graph()\n",
    "\n",
    "length = len(questions_titles)\n",
    "\n",
    "for i in tqdm_notebook(range(length)):\n",
    "    for word in questions_titles[i]:\n",
    "        if word not in active_words:\n",
    "            continue\n",
    "        for tag in questions_topics[i]:\n",
    "            if not W.has_edge(word, tag):\n",
    "                W.add_edge(word, tag, weight=1)\n",
    "            else:\n",
    "                W.edge[word][tag]['weight'] += 1"
   ]
  },
  {
   "cell_type": "code",
   "execution_count": 15,
   "metadata": {
    "collapsed": false
   },
   "outputs": [
    {
     "name": "stdout",
     "output_type": "stream",
     "text": [
      "\n"
     ]
    }
   ],
   "source": [
    "co_word_tag = defaultdict(lambda: defaultdict(lambda: 0))\n",
    "length = len(questions_titles)\n",
    "# length = 10000\n",
    "\n",
    "for i in tqdm_notebook(range(length)):\n",
    "    for word in questions_titles[i]:\n",
    "        if word not in active_words:\n",
    "            continue\n",
    "        for tag in questions_topics[i]:\n",
    "            co_word_tag[word][tag] += 1"
   ]
  },
  {
   "cell_type": "code",
   "execution_count": 16,
   "metadata": {
    "collapsed": false
   },
   "outputs": [
    {
     "data": {
      "text/plain": [
       "420"
      ]
     },
     "execution_count": 16,
     "metadata": {},
     "output_type": "execute_result"
    }
   ],
   "source": [
    "len(co_word_tag[list(co_word_tag.keys())[999]])"
   ]
  },
  {
   "cell_type": "code",
   "execution_count": 17,
   "metadata": {
    "collapsed": false
   },
   "outputs": [
    {
     "name": "stdout",
     "output_type": "stream",
     "text": [
      "CPU times: user 1.25 s, sys: 949 ms, total: 2.2 s\n",
      "Wall time: 2.37 s\n"
     ]
    },
    {
     "data": {
      "text/plain": [
       "1999"
      ]
     },
     "execution_count": 17,
     "metadata": {},
     "output_type": "execute_result"
    }
   ],
   "source": [
    "%time topic_set = set(t for ts in questions_topics for t in ts)\n",
    "len(topic_set)"
   ]
  },
  {
   "cell_type": "code",
   "execution_count": 27,
   "metadata": {
    "collapsed": false
   },
   "outputs": [
    {
     "name": "stdout",
     "output_type": "stream",
     "text": [
      "[('7476760589625268543', 3.3031765956311026e-27), ('4697014490911193675', 7.67723547807016e-29), ('-4653836020042332281', 2.0216006112779725e-29), ('-7046289575185911002', 5.013292381596791e-30), ('3738968195649774859', 1.7339574697751384e-30), ('-7129272008741138808', 4.79868050294047e-31), ('-4931965624608608932', 3.347435996405279e-31), ('-8175048003539471998', 2.1644555518032123e-31), ('-5932391056759866388', 1.1841251730638548e-31), ('2787171473654490487', 5.393021386054086e-32), ('-8377411942628634656', 1.675748846949536e-32), ('-3388534223137478077', 4.394668380326251e-33), ('2587540952280802350', 3.746131372331043e-33), ('-3517637179126242000', 2.4580596105544916e-33), ('-8132909213241034354', 1.7989463997057147e-33), ('-6748914495015758455', 1.425572397469604e-33), ('9069451131871918127', 1.3637803901444563e-33), ('8697050490955193511', 1.2403908100251155e-33), ('-8320373689946067773', 2.805999802946622e-34), ('-5872443091340192918', 1.7818921851050028e-34)]\n",
      "['7739004195693774975', '3738968195649774859']\n",
      "['w305', 'w13549', 'w22752', 'w11', 'w7225', 'w2565', 'w1106', 'w16', 'w31389', 'w6', 'w1019', 'w69288', 'w111', 'w3332', 'w109', 'w11', 'w25', 'w1110', 'w111']\n"
     ]
    },
    {
     "data": {
      "text/plain": [
       "169"
      ]
     },
     "execution_count": 27,
     "metadata": {},
     "output_type": "execute_result"
    }
   ],
   "source": [
    "def predict_title(title):\n",
    "    result = defaultdict(lambda: 1)\n",
    "    for tag in topic_set:\n",
    "        for word in title:\n",
    "            if not word in active_words:\n",
    "                continue\n",
    "            result[tag] *= (co_word_tag[word][tag] + 1) / (title_words_count[word] + 1999)\n",
    "#             result[tag] *= co_word_tag[word][tag]\n",
    "    return Counter(result)\n",
    "\n",
    "print(predict_title(questions_titles[0]).most_common(20))\n",
    "print(questions_topics[0])\n",
    "print(questions_titles[0])\n",
    "co_word_tag['w8646']['3195914392210930723']"
   ]
  },
  {
   "cell_type": "code",
   "execution_count": 25,
   "metadata": {
    "collapsed": false
   },
   "outputs": [
    {
     "name": "stdout",
     "output_type": "stream",
     "text": [
      "\n"
     ]
    }
   ],
   "source": [
    "length = 1000\n",
    "result = []\n",
    "for i in tqdm_notebook(range(length)):\n",
    "    result.append([i for i, v in predict_title(questions_titles[i]).most_common(5)])"
   ]
  },
  {
   "cell_type": "code",
   "execution_count": 26,
   "metadata": {
    "collapsed": false
   },
   "outputs": [
    {
     "data": {
      "text/plain": [
       "(0.12217566903841935, 0.3976054258797025, 0.17637059073523162, 415, 2353)"
      ]
     },
     "execution_count": 26,
     "metadata": {},
     "output_type": "execute_result"
    }
   ],
   "source": [
    "from evaluate import evaluate\n",
    "evaluate(zip(result, questions_topics[:1000]))"
   ]
  },
  {
   "cell_type": "code",
   "execution_count": null,
   "metadata": {
    "collapsed": true
   },
   "outputs": [],
   "source": []
  }
 ],
 "metadata": {
  "kernelspec": {
   "display_name": "Python 3",
   "language": "python",
   "name": "python3"
  },
  "language_info": {
   "codemirror_mode": {
    "name": "ipython",
    "version": 3
   },
   "file_extension": ".py",
   "mimetype": "text/x-python",
   "name": "python",
   "nbconvert_exporter": "python",
   "pygments_lexer": "ipython3",
   "version": "3.6.0"
  },
  "widgets": {
   "state": {
    "658f696ff4bf4ab1ac937a29bd021e7f": {
     "views": [
      {
       "cell_index": 11
      }
     ]
    },
    "922e9bfcbe2349e9b43f088225deafe0": {
     "views": [
      {
       "cell_index": 6
      }
     ]
    },
    "d69924cd20ea47df9fb3314bb3c1222b": {
     "views": [
      {
       "cell_index": 7
      }
     ]
    }
   },
   "version": "1.2.0"
  }
 },
 "nbformat": 4,
 "nbformat_minor": 2
}
