{
 "cells": [
  {
   "cell_type": "code",
   "execution_count": 32,
   "metadata": {
    "collapsed": true
   },
   "outputs": [],
   "source": [
    "import math\n",
    "\n",
    "def evaluate(predict_label_and_marked_label_list):\n",
    "    \"\"\"\n",
    "    :param predict_label_and_marked_label_list: 一个元组列表。例如\n",
    "    [ ([1, 2, 3, 4, 5], [4, 5, 6, 7]),\n",
    "      ([3, 2, 1, 4, 7], [5, 7, 3])\n",
    "     ]\n",
    "    需要注意这里 predict_label 是去重复的，例如 [1,2,3,2,4,1,6]，去重后变成[1,2,3,4,6]\n",
    "    :return:\n",
    "    \"\"\"\n",
    "    right_label_num = 0\n",
    "    right_label_at_pos_num = [0, 0, 0, 0, 0]\n",
    "    sample_num = 0\n",
    "    all_marked_label_num = 0\n",
    "    for predict_labels, marked_labels in predict_label_and_marked_label_list:\n",
    "        sample_num += 1\n",
    "        marked_label_set = set(marked_labels)\n",
    "        all_marked_label_num += len(marked_label_set)\n",
    "        for pos, label in zip(range(0, min(len(predict_labels), 5)), predict_labels):\n",
    "            if label in marked_label_set:\n",
    "                right_label_num += 1\n",
    "                right_label_at_pos_num[pos] = right_label_at_pos_num[pos] + 1\n",
    "\n",
    "    precision = 0.0\n",
    "    for pos, right_num in zip(range(0, 5), right_label_at_pos_num):\n",
    "        precision += ((right_num / float(sample_num))) / math.log(2.0 + pos)\n",
    "    recall = float(right_label_num) / all_marked_label_num\n",
    "\n",
    "    return (precision * recall) / (precision + recall), precision, recall, right_label_num, all_marked_label_num"
   ]
  },
  {
   "cell_type": "code",
   "execution_count": 1,
   "metadata": {
    "collapsed": true
   },
   "outputs": [],
   "source": [
    "import pandas as pd\n",
    "import numpy as np"
   ]
  },
  {
   "cell_type": "code",
   "execution_count": 2,
   "metadata": {
    "collapsed": false
   },
   "outputs": [
    {
     "name": "stdout",
     "output_type": "stream",
     "text": [
      "CPU times: user 20.6 s, sys: 5.4 s, total: 26 s\n",
      "Wall time: 28.8 s\n"
     ]
    }
   ],
   "source": [
    "%%time\n",
    "questions = pd.read_csv('./question_train_word.csv')\n",
    "questions['topics'] = questions.topics.apply(lambda s: s.split(','))"
   ]
  },
  {
   "cell_type": "code",
   "execution_count": 3,
   "metadata": {
    "collapsed": false
   },
   "outputs": [
    {
     "name": "stdout",
     "output_type": "stream",
     "text": [
      "7014424\n",
      "1999\n"
     ]
    }
   ],
   "source": [
    "topics = [t for topics in questions.topics for t in topics]\n",
    "set_topics = set(topics)\n",
    "print(len(topics))\n",
    "print(len(set_topics))"
   ]
  },
  {
   "cell_type": "code",
   "execution_count": 4,
   "metadata": {
    "collapsed": false
   },
   "outputs": [
    {
     "name": "stdout",
     "output_type": "stream",
     "text": [
      "Unnamed: 0                                                      9\n",
      "Unnamed: 0.1                                                    9\n",
      "id                                            3174606710238304130\n",
      "title           [w2218, w54, w1038, w125529, w90, w7665, w6, w...\n",
      "description     w85,w54,w86,w54,w87,w54,w2008,w18335,w1417,w54...\n",
      "topics                                     [-4115748438709160582]\n",
      "Name: 9, dtype: object\n",
      "CPU times: user 8.58 s, sys: 2.56 s, total: 11.1 s\n",
      "Wall time: 12.8 s\n"
     ]
    }
   ],
   "source": [
    "%%time\n",
    "questions['title'] = questions.title.astype('U').apply(lambda s: s.split(','))\n",
    "print(questions.iloc[9])"
   ]
  },
  {
   "cell_type": "code",
   "execution_count": 5,
   "metadata": {
    "collapsed": false
   },
   "outputs": [
    {
     "data": {
      "text/plain": [
       "id                                      738845194850773558\n",
       "p_ids                                 -5833678375673307423\n",
       "c                                                    c0,c1\n",
       "w                                                       w0\n",
       "d_c      c0,c1,c2,c3,c4,c5,c6,c7,c0,c1,c8,c9,c10,c11,c1...\n",
       "d_w      w0,w1,w2,w3,w4,w5,w6,w7,w8,w9,w10,w11,w12,w13,...\n",
       "Name: 0, dtype: object"
      ]
     },
     "execution_count": 5,
     "metadata": {},
     "output_type": "execute_result"
    }
   ],
   "source": [
    "topics = pd.read_csv('./topic_info.txt', sep='\\t', names=['id', 'p_ids', 'c', 'w', 'd_c', 'd_w'])\n",
    "topics.iloc[0]"
   ]
  },
  {
   "cell_type": "code",
   "execution_count": 6,
   "metadata": {
    "collapsed": false
   },
   "outputs": [
    {
     "data": {
      "text/plain": [
       "p_ids                                 -5833678375673307423\n",
       "c                                                    c0,c1\n",
       "w                                                       w0\n",
       "d_c      c0,c1,c2,c3,c4,c5,c6,c7,c0,c1,c8,c9,c10,c11,c1...\n",
       "d_w      w0,w1,w2,w3,w4,w5,w6,w7,w8,w9,w10,w11,w12,w13,...\n",
       "Name: 738845194850773558, dtype: object"
      ]
     },
     "execution_count": 6,
     "metadata": {},
     "output_type": "execute_result"
    }
   ],
   "source": [
    "topics.set_index('id', inplace=True)\n",
    "topics.iloc[0]"
   ]
  },
  {
   "cell_type": "code",
   "execution_count": 7,
   "metadata": {
    "collapsed": false
   },
   "outputs": [],
   "source": [
    "topics['ws'] = topics['w'].apply(lambda x: x.split(','))"
   ]
  },
  {
   "cell_type": "code",
   "execution_count": 8,
   "metadata": {
    "collapsed": false
   },
   "outputs": [
    {
     "data": {
      "text/plain": [
       "Unnamed: 0                                                      0\n",
       "Unnamed: 0.1                                                    0\n",
       "id                                            6555699376639805223\n",
       "title           [w305, w13549, w22752, w11, w7225, w2565, w110...\n",
       "description     w231,w54,w1681,w54,w11506,w5714,w7,w54,w744,w1...\n",
       "topics                 [7739004195693774975, 3738968195649774859]\n",
       "Name: 0, dtype: object"
      ]
     },
     "execution_count": 8,
     "metadata": {},
     "output_type": "execute_result"
    }
   ],
   "source": [
    "questions.iloc[0]"
   ]
  },
  {
   "cell_type": "code",
   "execution_count": 9,
   "metadata": {
    "collapsed": false
   },
   "outputs": [
    {
     "name": "stdout",
     "output_type": "stream",
     "text": [
      "Automatic pdb calling has been turned ON\n"
     ]
    }
   ],
   "source": [
    "from tqdm import tqdm\n",
    "%pdb\n",
    "result = []\n",
    "for i, q in questions[:100].iterrows():\n",
    "    \n",
    "    for t in q[5]:\n",
    "        topic_w = topics.loc[int(t)]\n",
    "        for w in topic_w.ws:\n",
    "            if w not in q[3]:\n",
    "                result.append(False)\n",
    "                break\n",
    "            result.append(True)"
   ]
  },
  {
   "cell_type": "code",
   "execution_count": 10,
   "metadata": {
    "collapsed": false
   },
   "outputs": [
    {
     "name": "stdout",
     "output_type": "stream",
     "text": [
      "242\n",
      "84\n"
     ]
    }
   ],
   "source": [
    "print(len(result))\n",
    "print(len([i for i in result if i]))"
   ]
  },
  {
   "cell_type": "code",
   "execution_count": 11,
   "metadata": {
    "collapsed": false
   },
   "outputs": [
    {
     "data": {
      "text/plain": [
       "'738845194850773558'"
      ]
     },
     "execution_count": 11,
     "metadata": {},
     "output_type": "execute_result"
    }
   ],
   "source": [
    "topic_word_map = dict(zip(topics.w, topics.index.astype('U')))\n",
    "topic_word_map['w0']"
   ]
  },
  {
   "cell_type": "code",
   "execution_count": 12,
   "metadata": {
    "collapsed": false
   },
   "outputs": [
    {
     "data": {
      "text/plain": [
       "[('7476760589625268543', 65989),\n",
       " ('4697014490911193675', 49192),\n",
       " ('-4653836020042332281', 45444)]"
      ]
     },
     "execution_count": 12,
     "metadata": {},
     "output_type": "execute_result"
    }
   ],
   "source": [
    "from collections import Counter\n",
    "_topics = [t for topics in questions.topics for t in topics]\n",
    "_c = Counter(_topics)\n",
    "_c.most_common(3)"
   ]
  },
  {
   "cell_type": "code",
   "execution_count": 58,
   "metadata": {
    "collapsed": false
   },
   "outputs": [
    {
     "name": "stdout",
     "output_type": "stream",
     "text": [
      "Unnamed: 0                                                      3\n",
      "Unnamed: 0.1                                                    3\n",
      "id                                              -5698296155734268\n",
      "title           [w8646, w2744, w1462, w9, w54, w138, w54, w50,...\n",
      "description                                                   NaN\n",
      "topics                [-6758942141122113907, 3195914392210930723]\n",
      "Name: 3, dtype: object\n",
      "['3195914392210930723']\n"
     ]
    }
   ],
   "source": [
    "most_common_topic = '7476760589625268543'\n",
    "\n",
    "set_topics_w = [w for ws in topics.ws for w in ws]\n",
    "def predict(title):\n",
    "    intersection = set(title).intersection(set_topics_w)\n",
    "    topic_ids = []\n",
    "    if intersection:\n",
    "        topic_ids = [i for i in map(lambda x: topic_word_map.get(x), intersection) if i]\n",
    "#     else:\n",
    "#         topic_ids = [most_common_topic]\n",
    "    return topic_ids\n",
    "\n",
    "print(questions.iloc[3])\n",
    "print(predict(questions.iloc[3].title))"
   ]
  },
  {
   "cell_type": "code",
   "execution_count": 59,
   "metadata": {
    "collapsed": false
   },
   "outputs": [],
   "source": [
    "y_predict = []\n",
    "for i, q in questions[:10000].iterrows():\n",
    "    y_predict.append(predict(q[3]))"
   ]
  },
  {
   "cell_type": "code",
   "execution_count": 60,
   "metadata": {
    "collapsed": false
   },
   "outputs": [
    {
     "name": "stdout",
     "output_type": "stream",
     "text": [
      "Automatic pdb calling has been turned OFF\n"
     ]
    },
    {
     "data": {
      "text/plain": [
       "(0.1518606400531184, 0.6395453756981615, 0.19914867740954698, 5240, 26312)"
      ]
     },
     "execution_count": 60,
     "metadata": {},
     "output_type": "execute_result"
    }
   ],
   "source": [
    "%pdb\n",
    "evaluate(r_m_result)"
   ]
  },
  {
   "cell_type": "code",
   "execution_count": 15,
   "metadata": {
    "collapsed": false
   },
   "outputs": [
    {
     "name": "stdout",
     "output_type": "stream",
     "text": [
      "548\n"
     ]
    }
   ],
   "source": [
    "count = 0\n",
    "for i in range(len(y_predict)):\n",
    "    for t in y_predict[i]:\n",
    "        if t in questions.iloc[i].topics:\n",
    "            count +=1\n",
    "print(count)"
   ]
  },
  {
   "cell_type": "code",
   "execution_count": 16,
   "metadata": {
    "collapsed": false
   },
   "outputs": [
    {
     "name": "stdout",
     "output_type": "stream",
     "text": [
      "[[], ['-3026760652624195547'], ['-8252369929269451135'], ['3195914392210930723'], ['4195795391451929480'], [], ['-5932391056759866388', '-5839832565699655443'], ['42427966967759255'], ['1158968214639900190', '-9165709055872875620'], ['-4115748438709160582']]\n",
      "['3195914392210930723']\n",
      "{'w138', 'w6', 'w54'}\n",
      "['-6758942141122113907', '3195914392210930723']\n",
      "['w8652,w54,w674,w8647,w614', 'w138']\n"
     ]
    }
   ],
   "source": [
    "print(y_predict[:10])\n",
    "print(y_predict[3])\n",
    "print(set(questions.iloc[3].title).intersection(set_topics_w))\n",
    "print(questions.iloc[3].topics)\n",
    "print(list(map(lambda x: topics.loc[int(x)].w, questions.iloc[3].topics)))"
   ]
  },
  {
   "cell_type": "code",
   "execution_count": 53,
   "metadata": {
    "collapsed": false
   },
   "outputs": [
    {
     "data": {
      "text/plain": [
       "([], ['7739004195693774975', '3738968195649774859'])"
      ]
     },
     "execution_count": 53,
     "metadata": {},
     "output_type": "execute_result"
    }
   ],
   "source": [
    "r_m_result = list(zip(y_predict, questions[:10000].topics))\n",
    "r_m_result[0]"
   ]
  },
  {
   "cell_type": "code",
   "execution_count": 42,
   "metadata": {
    "collapsed": false
   },
   "outputs": [
    {
     "name": "stdout",
     "output_type": "stream",
     "text": [
      "CPU times: user 3.08 s, sys: 371 ms, total: 3.45 s\n",
      "Wall time: 3.61 s\n"
     ]
    }
   ],
   "source": [
    "%%time\n",
    "colnames = ['id', 'c', 'w', 'd_c', 'd_w']\n",
    "test_questions = pd.read_csv('./question_eval_set.txt', sep='\\t', names=colnames)"
   ]
  },
  {
   "cell_type": "code",
   "execution_count": 44,
   "metadata": {
    "collapsed": false
   },
   "outputs": [],
   "source": [
    "test_ids = set(test_questions['id'])\n",
    "train_ids = set(questions['id'])"
   ]
  },
  {
   "cell_type": "code",
   "execution_count": 45,
   "metadata": {
    "collapsed": false
   },
   "outputs": [
    {
     "data": {
      "text/plain": [
       "set()"
      ]
     },
     "execution_count": 45,
     "metadata": {},
     "output_type": "execute_result"
    }
   ],
   "source": [
    "test_ids.intersection(train_ids)"
   ]
  },
  {
   "cell_type": "code",
   "execution_count": 47,
   "metadata": {
    "collapsed": false
   },
   "outputs": [],
   "source": [
    "test_questions['title'] = test_questions.w.astype('U').apply(lambda s: s.split(','))"
   ]
  },
  {
   "cell_type": "code",
   "execution_count": 49,
   "metadata": {
    "collapsed": false
   },
   "outputs": [
    {
     "data": {
      "text/plain": [
       "id                                     6215603645409872328\n",
       "c        c924,c531,c102,c284,c188,c104,c98,c107,c11,c11...\n",
       "w        w1340,w1341,w55,w1344,w58,w6,w24178,w26959,w47...\n",
       "d_c      c1128,c529,c636,c572,c1321,c139,c540,c223,c510...\n",
       "d_w      w4094,w1618,w20104,w19234,w1097,w1005,w4228,w2...\n",
       "title    [w1340, w1341, w55, w1344, w58, w6, w24178, w2...\n",
       "Name: 0, dtype: object"
      ]
     },
     "execution_count": 49,
     "metadata": {},
     "output_type": "execute_result"
    }
   ],
   "source": [
    "test_questions.iloc[0]"
   ]
  },
  {
   "cell_type": "code",
   "execution_count": 62,
   "metadata": {
    "collapsed": false
   },
   "outputs": [
    {
     "name": "stdout",
     "output_type": "stream",
     "text": [
      "CPU times: user 29.1 s, sys: 205 ms, total: 29.3 s\n",
      "Wall time: 29.7 s\n"
     ]
    }
   ],
   "source": [
    "%%time\n",
    "y_test = []\n",
    "for i, q in test_questions.iterrows():\n",
    "    y_test.append(predict(q[5]))"
   ]
  },
  {
   "cell_type": "code",
   "execution_count": 63,
   "metadata": {
    "collapsed": false
   },
   "outputs": [
    {
     "data": {
      "text/plain": [
       "[[],\n",
       " ['2858911571784840089', '-240041917918953337'],\n",
       " [],\n",
       " [],\n",
       " ['-8963554618409314978'],\n",
       " ['-202658488388760612'],\n",
       " ['4482402820945758152'],\n",
       " [],\n",
       " ['8690965822342756180',\n",
       "  '-7653703019053330516',\n",
       "  '-268886646698338239',\n",
       "  '738845194850773558'],\n",
       " ['3195914392210930723']]"
      ]
     },
     "execution_count": 63,
     "metadata": {},
     "output_type": "execute_result"
    }
   ],
   "source": [
    "y_test[:10]"
   ]
  },
  {
   "cell_type": "code",
   "execution_count": 64,
   "metadata": {
    "collapsed": true
   },
   "outputs": [],
   "source": [
    "test_questions['predict'] = y_test"
   ]
  },
  {
   "cell_type": "code",
   "execution_count": 69,
   "metadata": {
    "collapsed": false
   },
   "outputs": [
    {
     "data": {
      "text/plain": [
       "id                                       6649324930261961840\n",
       "c          c346,c1549,c413,c294,c675,c504,c183,c74,c541,c...\n",
       "w          w40132,w1357,w1556,w1380,w2464,w33,w16791,w109...\n",
       "d_c                                                      NaN\n",
       "d_w                                                      NaN\n",
       "title      [w40132, w1357, w1556, w1380, w2464, w33, w167...\n",
       "predict              2858911571784840089,-240041917918953337\n",
       "Name: 1, dtype: object"
      ]
     },
     "execution_count": 69,
     "metadata": {},
     "output_type": "execute_result"
    }
   ],
   "source": [
    "test_questions['predict'] = test_questions.predict.apply(lambda x: ','.join(x))\n",
    "test_questions.iloc[1]"
   ]
  },
  {
   "cell_type": "code",
   "execution_count": 91,
   "metadata": {
    "collapsed": false
   },
   "outputs": [
    {
     "name": "stdout",
     "output_type": "stream",
     "text": [
      "Automatic pdb calling has been turned OFF\n"
     ]
    }
   ],
   "source": [
    "%pdb\n",
    "import csv\n",
    "test_questions['result'] = test_questions[['id', 'predict']].apply(lambda x: ','.join(x), axis=1)"
   ]
  },
  {
   "cell_type": "code",
   "execution_count": 98,
   "metadata": {
    "collapsed": false
   },
   "outputs": [],
   "source": [
    "test_questions['result'].to_csv('baseline_tag_in_text.csv', header=False, index=False, sep=' ')"
   ]
  },
  {
   "cell_type": "code",
   "execution_count": 96,
   "metadata": {
    "collapsed": false
   },
   "outputs": [
    {
     "name": "stdout",
     "output_type": "stream",
     "text": [
      "Help on method to_csv in module pandas.core.series:\n",
      "\n",
      "to_csv(path=None, index=True, sep=',', na_rep='', float_format=None, header=False, index_label=None, mode='w', encoding=None, date_format=None, decimal='.') method of pandas.core.series.Series instance\n",
      "    Write Series to a comma-separated values (csv) file\n",
      "    \n",
      "    Parameters\n",
      "    ----------\n",
      "    path : string or file handle, default None\n",
      "        File path or object, if None is provided the result is returned as\n",
      "        a string.\n",
      "    na_rep : string, default ''\n",
      "        Missing data representation\n",
      "    float_format : string, default None\n",
      "        Format string for floating point numbers\n",
      "    header : boolean, default False\n",
      "        Write out series name\n",
      "    index : boolean, default True\n",
      "        Write row names (index)\n",
      "    index_label : string or sequence, default None\n",
      "        Column label for index column(s) if desired. If None is given, and\n",
      "        `header` and `index` are True, then the index names are used. A\n",
      "        sequence should be given if the DataFrame uses MultiIndex.\n",
      "    mode : Python write mode, default 'w'\n",
      "    sep : character, default \",\"\n",
      "        Field delimiter for the output file.\n",
      "    encoding : string, optional\n",
      "        a string representing the encoding to use if the contents are\n",
      "        non-ascii, for python versions prior to 3\n",
      "    date_format: string, default None\n",
      "        Format string for datetime objects.\n",
      "    decimal: string, default '.'\n",
      "        Character recognized as decimal separator. E.g. use ',' for\n",
      "        European data\n",
      "\n"
     ]
    }
   ],
   "source": [
    "help(test_questions['result'].to_csv)"
   ]
  },
  {
   "cell_type": "code",
   "execution_count": 80,
   "metadata": {
    "collapsed": false
   },
   "outputs": [
    {
     "data": {
      "text/plain": [
       "6649324930261961840"
      ]
     },
     "execution_count": 80,
     "metadata": {},
     "output_type": "execute_result"
    }
   ],
   "source": [
    "test_questions.iloc[1].id"
   ]
  },
  {
   "cell_type": "markdown",
   "metadata": {},
   "source": [
    "## Score: 0.128724958515191"
   ]
  },
  {
   "cell_type": "code",
   "execution_count": null,
   "metadata": {
    "collapsed": true
   },
   "outputs": [],
   "source": []
  }
 ],
 "metadata": {
  "kernelspec": {
   "display_name": "Python 3",
   "language": "python",
   "name": "python3"
  },
  "language_info": {
   "codemirror_mode": {
    "name": "ipython",
    "version": 3
   },
   "file_extension": ".py",
   "mimetype": "text/x-python",
   "name": "python",
   "nbconvert_exporter": "python",
   "pygments_lexer": "ipython3",
   "version": "3.6.0"
  }
 },
 "nbformat": 4,
 "nbformat_minor": 2
}
